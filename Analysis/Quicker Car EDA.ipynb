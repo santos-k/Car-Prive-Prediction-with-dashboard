{
 "cells": [
  {
   "cell_type": "code",
   "execution_count": 325,
   "id": "2ab36048",
   "metadata": {},
   "outputs": [],
   "source": [
    "import pandas as pd\n",
    "import numpy as np\n",
    "import matplotlib.pyplot as plt\n",
    "import seaborn as sns\n",
    "%matplotlib inline"
   ]
  },
  {
   "cell_type": "code",
   "execution_count": 326,
   "id": "497bc708",
   "metadata": {},
   "outputs": [
    {
     "data": {
      "text/html": [
       "<div>\n",
       "<style scoped>\n",
       "    .dataframe tbody tr th:only-of-type {\n",
       "        vertical-align: middle;\n",
       "    }\n",
       "\n",
       "    .dataframe tbody tr th {\n",
       "        vertical-align: top;\n",
       "    }\n",
       "\n",
       "    .dataframe thead th {\n",
       "        text-align: right;\n",
       "    }\n",
       "</style>\n",
       "<table border=\"1\" class=\"dataframe\">\n",
       "  <thead>\n",
       "    <tr style=\"text-align: right;\">\n",
       "      <th></th>\n",
       "      <th>name</th>\n",
       "      <th>company</th>\n",
       "      <th>year</th>\n",
       "      <th>Price</th>\n",
       "      <th>kms_driven</th>\n",
       "      <th>fuel_type</th>\n",
       "    </tr>\n",
       "  </thead>\n",
       "  <tbody>\n",
       "    <tr>\n",
       "      <th>0</th>\n",
       "      <td>Hyundai Santro Xing XO eRLX Euro III</td>\n",
       "      <td>Hyundai</td>\n",
       "      <td>2007</td>\n",
       "      <td>80,000</td>\n",
       "      <td>45,000 kms</td>\n",
       "      <td>Petrol</td>\n",
       "    </tr>\n",
       "    <tr>\n",
       "      <th>1</th>\n",
       "      <td>Mahindra Jeep CL550 MDI</td>\n",
       "      <td>Mahindra</td>\n",
       "      <td>2006</td>\n",
       "      <td>4,25,000</td>\n",
       "      <td>40 kms</td>\n",
       "      <td>Diesel</td>\n",
       "    </tr>\n",
       "    <tr>\n",
       "      <th>2</th>\n",
       "      <td>Maruti Suzuki Alto 800 Vxi</td>\n",
       "      <td>Maruti</td>\n",
       "      <td>2018</td>\n",
       "      <td>Ask For Price</td>\n",
       "      <td>22,000 kms</td>\n",
       "      <td>Petrol</td>\n",
       "    </tr>\n",
       "    <tr>\n",
       "      <th>3</th>\n",
       "      <td>Hyundai Grand i10 Magna 1.2 Kappa VTVT</td>\n",
       "      <td>Hyundai</td>\n",
       "      <td>2014</td>\n",
       "      <td>3,25,000</td>\n",
       "      <td>28,000 kms</td>\n",
       "      <td>Petrol</td>\n",
       "    </tr>\n",
       "    <tr>\n",
       "      <th>4</th>\n",
       "      <td>Ford EcoSport Titanium 1.5L TDCi</td>\n",
       "      <td>Ford</td>\n",
       "      <td>2014</td>\n",
       "      <td>5,75,000</td>\n",
       "      <td>36,000 kms</td>\n",
       "      <td>Diesel</td>\n",
       "    </tr>\n",
       "  </tbody>\n",
       "</table>\n",
       "</div>"
      ],
      "text/plain": [
       "                                     name   company  year          Price  \\\n",
       "0    Hyundai Santro Xing XO eRLX Euro III   Hyundai  2007         80,000   \n",
       "1                 Mahindra Jeep CL550 MDI  Mahindra  2006       4,25,000   \n",
       "2              Maruti Suzuki Alto 800 Vxi    Maruti  2018  Ask For Price   \n",
       "3  Hyundai Grand i10 Magna 1.2 Kappa VTVT   Hyundai  2014       3,25,000   \n",
       "4        Ford EcoSport Titanium 1.5L TDCi      Ford  2014       5,75,000   \n",
       "\n",
       "   kms_driven fuel_type  \n",
       "0  45,000 kms    Petrol  \n",
       "1      40 kms    Diesel  \n",
       "2  22,000 kms    Petrol  \n",
       "3  28,000 kms    Petrol  \n",
       "4  36,000 kms    Diesel  "
      ]
     },
     "execution_count": 326,
     "metadata": {},
     "output_type": "execute_result"
    }
   ],
   "source": [
    "df = pd.read_csv('quikr_car.csv')\n",
    "df.head()"
   ]
  },
  {
   "cell_type": "code",
   "execution_count": 327,
   "id": "2efde860",
   "metadata": {},
   "outputs": [
    {
     "data": {
      "text/plain": [
       "(892, 6)"
      ]
     },
     "execution_count": 327,
     "metadata": {},
     "output_type": "execute_result"
    }
   ],
   "source": [
    "df.shape"
   ]
  },
  {
   "cell_type": "code",
   "execution_count": 328,
   "id": "9c8d3a3d",
   "metadata": {},
   "outputs": [
    {
     "name": "stdout",
     "output_type": "stream",
     "text": [
      "<class 'pandas.core.frame.DataFrame'>\n",
      "RangeIndex: 892 entries, 0 to 891\n",
      "Data columns (total 6 columns):\n",
      " #   Column      Non-Null Count  Dtype \n",
      "---  ------      --------------  ----- \n",
      " 0   name        892 non-null    object\n",
      " 1   company     892 non-null    object\n",
      " 2   year        892 non-null    object\n",
      " 3   Price       892 non-null    object\n",
      " 4   kms_driven  840 non-null    object\n",
      " 5   fuel_type   837 non-null    object\n",
      "dtypes: object(6)\n",
      "memory usage: 41.9+ KB\n"
     ]
    }
   ],
   "source": [
    "df.info()"
   ]
  },
  {
   "cell_type": "code",
   "execution_count": 329,
   "id": "9c07a49c",
   "metadata": {},
   "outputs": [
    {
     "data": {
      "text/plain": [
       "name           0\n",
       "company        0\n",
       "year           0\n",
       "Price          0\n",
       "kms_driven    52\n",
       "fuel_type     55\n",
       "dtype: int64"
      ]
     },
     "execution_count": 329,
     "metadata": {},
     "output_type": "execute_result"
    }
   ],
   "source": [
    "df.isnull().sum()"
   ]
  },
  {
   "cell_type": "code",
   "execution_count": 330,
   "id": "052eeaad",
   "metadata": {},
   "outputs": [
    {
     "data": {
      "text/plain": [
       "94"
      ]
     },
     "execution_count": 330,
     "metadata": {},
     "output_type": "execute_result"
    }
   ],
   "source": [
    "df.duplicated().sum()"
   ]
  },
  {
   "cell_type": "code",
   "execution_count": 331,
   "id": "07521373",
   "metadata": {},
   "outputs": [],
   "source": [
    "df.drop_duplicates(inplace=True)"
   ]
  },
  {
   "cell_type": "code",
   "execution_count": 332,
   "id": "54a12f9f",
   "metadata": {},
   "outputs": [
    {
     "data": {
      "text/plain": [
       "(798, 6)"
      ]
     },
     "execution_count": 332,
     "metadata": {},
     "output_type": "execute_result"
    }
   ],
   "source": [
    "df.shape"
   ]
  },
  {
   "cell_type": "code",
   "execution_count": 333,
   "id": "f8aadd3b",
   "metadata": {},
   "outputs": [],
   "source": [
    "# extracting model name from name column \n",
    "df['model']=df['name'].str.split(' ').str[1:3].apply(lambda x: ' '.join([str(elem) for elem in x]))"
   ]
  },
  {
   "cell_type": "code",
   "execution_count": 334,
   "id": "85628850",
   "metadata": {},
   "outputs": [],
   "source": [
    "# extracting series name from name column after splitting cell\n",
    "df['series']=df['name'].str.split().str[3:].apply(lambda x: ' '.join([str(elem) for elem in x]))"
   ]
  },
  {
   "cell_type": "code",
   "execution_count": 335,
   "id": "c5377cdc",
   "metadata": {},
   "outputs": [],
   "source": [
    "# replacing company name with name's first word to avoid miss spelled\n",
    "df['company']=df['name'].str.split().str[0]"
   ]
  },
  {
   "cell_type": "code",
   "execution_count": 336,
   "id": "474bbe8b",
   "metadata": {},
   "outputs": [
    {
     "data": {
      "text/plain": [
       "array(['Hyundai', 'Mahindra', 'Maruti', 'Ford', 'Skoda', 'Audi', 'Toyota',\n",
       "       'Renault', 'Honda', 'Datsun', 'Mitsubishi', 'Tata', 'Volkswagen',\n",
       "       'I', 'Chevrolet', 'Mini', 'BMW', 'Nissan', 'Hindustan', 'Fiat',\n",
       "       'Commercial', 'MARUTI', 'Force', 'Mercedes', 'Land', 'Yama',\n",
       "       'selling', 'URJE', 'Swift', 'Used', 'Jaguar', 'Hyun', 'Jeep',\n",
       "       'tata', 'Sale', 'very', 'Volvo', 'i', '2012', 'Well', 'all', '7',\n",
       "       '9', 'scratch', 'urgent', 'sell', 'Hyunda', 'TATA', 'Any', 'Ta'],\n",
       "      dtype=object)"
      ]
     },
     "execution_count": 336,
     "metadata": {},
     "output_type": "execute_result"
    }
   ],
   "source": [
    "# unique values of company to check wrong or other words\n",
    "df['company'].unique()"
   ]
  },
  {
   "cell_type": "code",
   "execution_count": 337,
   "id": "b3129df8",
   "metadata": {},
   "outputs": [],
   "source": [
    "# these words in company column which is not a company\n",
    "not_compny = ['I','Mini','Commercial','selling','URJE','Used','Sale', 'very','i', '2012', 'Well', 'all', '7',\n",
    "       '9', 'scratch', 'urgent', 'sell','Any', 'Ta']"
   ]
  },
  {
   "cell_type": "code",
   "execution_count": 338,
   "id": "2794ff9a",
   "metadata": {},
   "outputs": [],
   "source": [
    "# checking and keeping only numeric data of year\n",
    "df=df[df['year'].str.isdigit()]"
   ]
  },
  {
   "cell_type": "code",
   "execution_count": 339,
   "id": "cb4f3d20",
   "metadata": {},
   "outputs": [
    {
     "data": {
      "text/plain": [
       "array(['80,000', '4,25,000', 'Ask For Price', '3,25,000', '5,75,000',\n",
       "       '1,75,000', '1,90,000', '8,30,000', '2,50,000', '1,82,000',\n",
       "       '3,15,000', '4,15,000', '3,20,000', '10,00,000', '5,00,000',\n",
       "       '3,50,000', '1,60,000', '3,10,000', '75,000', '1,00,000',\n",
       "       '2,90,000', '95,000', '1,80,000', '3,85,000', '1,05,000',\n",
       "       '6,50,000', '6,89,999', '4,48,000', '5,49,000', '5,01,000',\n",
       "       '4,89,999', '2,80,000', '3,49,999', '2,84,999', '3,45,000',\n",
       "       '4,99,999', '2,35,000', '2,49,999', '14,75,000', '3,95,000',\n",
       "       '2,20,000', '1,70,000', '85,000', '2,00,000', '5,70,000',\n",
       "       '1,10,000', '4,48,999', '18,91,111', '1,59,500', '3,44,999',\n",
       "       '4,49,999', '8,65,000', '6,99,000', '3,75,000', '2,24,999',\n",
       "       '12,00,000', '1,95,000', '3,51,000', '2,40,000', '90,000',\n",
       "       '1,55,000', '6,00,000', '1,89,500', '2,10,000', '3,90,000',\n",
       "       '1,35,000', '16,00,000', '7,01,000', '2,65,000', '5,25,000',\n",
       "       '3,72,000', '6,35,000', '5,50,000', '4,85,000', '3,29,500',\n",
       "       '2,51,111', '5,69,999', '69,999', '2,99,999', '3,99,999',\n",
       "       '4,50,000', '2,70,000', '1,58,400', '1,79,000', '1,25,000',\n",
       "       '2,99,000', '1,50,000', '2,75,000', '2,85,000', '3,40,000',\n",
       "       '70,000', '2,89,999', '8,49,999', '7,49,999', '2,74,999',\n",
       "       '9,84,999', '5,99,999', '2,44,999', '4,74,999', '2,45,000',\n",
       "       '1,69,500', '3,70,000', '1,68,000', '1,45,000', '98,500',\n",
       "       '2,09,000', '1,85,000', '9,00,000', '6,99,999', '1,99,999',\n",
       "       '5,44,999', '1,99,000', '5,40,000', '49,000', '7,00,000', '55,000',\n",
       "       '8,95,000', '3,55,000', '5,65,000', '3,65,000', '40,000',\n",
       "       '4,00,000', '3,30,000', '5,80,000', '3,79,000', '2,19,000',\n",
       "       '5,19,000', '7,30,000', '20,00,000', '21,00,000', '14,00,000',\n",
       "       '3,11,000', '8,55,000', '5,35,000', '1,78,000', '3,00,000',\n",
       "       '2,55,000', '5,49,999', '3,80,000', '57,000', '4,10,000',\n",
       "       '2,25,000', '1,20,000', '59,000', '5,99,000', '6,75,000', '72,500',\n",
       "       '6,10,000', '2,30,000', '5,20,000', '5,24,999', '4,24,999',\n",
       "       '6,44,999', '5,84,999', '7,99,999', '4,44,999', '6,49,999',\n",
       "       '9,44,999', '5,74,999', '3,74,999', '1,30,000', '4,01,000',\n",
       "       '13,50,000', '1,74,999', '2,39,999', '99,999', '3,24,999',\n",
       "       '10,74,999', '11,30,000', '1,49,000', '7,70,000', '30,000',\n",
       "       '3,35,000', '3,99,000', '65,000', '1,69,999', '1,65,000',\n",
       "       '5,60,000', '9,50,000', '7,15,000', '45,000', '9,40,000',\n",
       "       '1,55,555', '15,00,000', '4,95,000', '8,00,000', '12,99,000',\n",
       "       '5,30,000', '14,99,000', '32,000', '4,05,000', '7,60,000',\n",
       "       '7,50,000', '4,19,000', '1,40,000', '15,40,000', '1,23,000',\n",
       "       '4,98,000', '4,80,000', '4,88,000', '15,25,000', '5,48,900',\n",
       "       '7,25,000', '99,000', '52,000', '28,00,000', '4,99,000',\n",
       "       '3,81,000', '2,78,000', '6,90,000', '2,60,000', '90,001',\n",
       "       '1,15,000', '15,99,000', '1,59,000', '51,999', '2,15,000',\n",
       "       '35,000', '11,50,000', '2,69,000', '60,000', '4,30,000',\n",
       "       '85,00,003', '4,01,919', '4,90,000', '4,24,000', '2,05,000',\n",
       "       '5,49,900', '4,35,000', '1,89,700', '3,89,700', '3,60,000',\n",
       "       '2,95,000', '1,14,990', '10,65,000', '4,70,000', '48,000',\n",
       "       '1,88,000', '4,65,000', '1,79,999', '21,90,000', '23,90,000',\n",
       "       '10,75,000', '4,75,000', '10,25,000', '6,15,000', '19,00,000',\n",
       "       '14,90,000', '15,10,000', '18,50,000', '7,90,000', '17,25,000',\n",
       "       '12,25,000', '68,000', '9,70,000', '31,00,000', '8,99,000',\n",
       "       '88,000', '53,000', '5,68,500', '71,000', '5,90,000', '7,95,000',\n",
       "       '42,000', '1,89,000', '1,62,000', '35,999', '29,00,000', '39,999',\n",
       "       '50,500', '5,10,000', '8,60,000', '5,00,001'], dtype=object)"
      ]
     },
     "execution_count": 339,
     "metadata": {},
     "output_type": "execute_result"
    }
   ],
   "source": [
    "df['Price'].unique()"
   ]
  },
  {
   "cell_type": "code",
   "execution_count": 340,
   "id": "e19bfbc3",
   "metadata": {},
   "outputs": [],
   "source": [
    "# removing comma from price\n",
    "df['Price']=df['Price'].str.replace(',','')"
   ]
  },
  {
   "cell_type": "code",
   "execution_count": 341,
   "id": "a1e03c8b",
   "metadata": {},
   "outputs": [],
   "source": [
    "df['Price'].replace(to_replace='Ask For Price',value=np.nan,inplace=True)\n",
    "df.dropna(inplace=True)"
   ]
  },
  {
   "cell_type": "code",
   "execution_count": 342,
   "id": "ff0e225b",
   "metadata": {},
   "outputs": [],
   "source": [
    "# arranging columns\n",
    "df=df[['company', 'model','series', 'year','fuel_type', 'kms_driven', 'Price', ]]"
   ]
  },
  {
   "cell_type": "code",
   "execution_count": 343,
   "id": "410b27e9",
   "metadata": {},
   "outputs": [],
   "source": [
    "# resete indexing\n",
    "df.reset_index(inplace=True)"
   ]
  },
  {
   "cell_type": "code",
   "execution_count": 344,
   "id": "934457e7",
   "metadata": {},
   "outputs": [
    {
     "data": {
      "text/plain": [
       "array(['2007', '2006', '2014', '2012', '2013', '2016', '2015', '2010',\n",
       "       '2017', '2008', '2018', '2011', '2019', '2009', '2005', '2000',\n",
       "       '2003', '2004', '1995', '2002', '2001'], dtype=object)"
      ]
     },
     "execution_count": 344,
     "metadata": {},
     "output_type": "execute_result"
    }
   ],
   "source": [
    "df['year'].unique()\n",
    "# now year has only numeric values"
   ]
  },
  {
   "cell_type": "code",
   "execution_count": 345,
   "id": "4461beca",
   "metadata": {},
   "outputs": [
    {
     "data": {
      "text/plain": [
       "array(['Hyundai', 'Mahindra', 'Ford', 'Maruti', 'Skoda', 'Audi', 'Toyota',\n",
       "       'Renault', 'Honda', 'Datsun', 'Mitsubishi', 'Tata', 'Volkswagen',\n",
       "       'Chevrolet', 'Mini', 'BMW', 'Nissan', 'Hindustan', 'Fiat', 'Force',\n",
       "       'Mercedes', 'Land', 'Jaguar', 'Jeep', 'Volvo'], dtype=object)"
      ]
     },
     "execution_count": 345,
     "metadata": {},
     "output_type": "execute_result"
    }
   ],
   "source": [
    "# as there was some wrong word in company which now removed after fixing year and price columns no need to work in this column\n",
    "df['company'].unique()"
   ]
  },
  {
   "cell_type": "code",
   "execution_count": 346,
   "id": "0d5c153a",
   "metadata": {},
   "outputs": [
    {
     "data": {
      "text/plain": [
       "array(['Petrol', 'Diesel', 'LPG'], dtype=object)"
      ]
     },
     "execution_count": 346,
     "metadata": {},
     "output_type": "execute_result"
    }
   ],
   "source": [
    "df['fuel_type'].unique()"
   ]
  },
  {
   "cell_type": "code",
   "execution_count": 347,
   "id": "7f52dc8a",
   "metadata": {},
   "outputs": [
    {
     "data": {
      "text/plain": [
       "Petrol    390\n",
       "Diesel    332\n",
       "LPG         2\n",
       "Name: fuel_type, dtype: int64"
      ]
     },
     "execution_count": 347,
     "metadata": {},
     "output_type": "execute_result"
    }
   ],
   "source": [
    "df['fuel_type'].value_counts()"
   ]
  },
  {
   "cell_type": "code",
   "execution_count": 348,
   "id": "b1cf020d",
   "metadata": {},
   "outputs": [
    {
     "data": {
      "text/plain": [
       "index         0\n",
       "company       0\n",
       "model         0\n",
       "series        0\n",
       "year          0\n",
       "fuel_type     0\n",
       "kms_driven    0\n",
       "Price         0\n",
       "dtype: int64"
      ]
     },
     "execution_count": 348,
     "metadata": {},
     "output_type": "execute_result"
    }
   ],
   "source": [
    "df.isnull().sum()"
   ]
  },
  {
   "cell_type": "code",
   "execution_count": 349,
   "id": "2eb57ade",
   "metadata": {},
   "outputs": [],
   "source": [
    "# filling nan values as most frequent\n",
    "df['fuel_type'].fillna('Petrol',inplace=True)"
   ]
  },
  {
   "cell_type": "code",
   "execution_count": 350,
   "id": "ed4a826d",
   "metadata": {
    "collapsed": true
   },
   "outputs": [
    {
     "data": {
      "text/plain": [
       "array(['45,000 kms', '40 kms', '28,000 kms', '36,000 kms', '41,000 kms',\n",
       "       '25,000 kms', '24,530 kms', '60,000 kms', '30,000 kms',\n",
       "       '32,000 kms', '48,660 kms', '4,000 kms', '16,934 kms',\n",
       "       '43,000 kms', '35,550 kms', '39,522 kms', '39,000 kms',\n",
       "       '55,000 kms', '72,000 kms', '15,975 kms', '70,000 kms',\n",
       "       '23,452 kms', '35,522 kms', '48,508 kms', '15,487 kms',\n",
       "       '82,000 kms', '20,000 kms', '68,000 kms', '38,000 kms',\n",
       "       '27,000 kms', '33,000 kms', '46,000 kms', '16,000 kms',\n",
       "       '47,000 kms', '35,000 kms', '30,874 kms', '15,000 kms',\n",
       "       '29,685 kms', '1,30,000 kms', '19,000 kms', '54,000 kms',\n",
       "       '13,000 kms', '38,200 kms', '22,000 kms', '50,000 kms',\n",
       "       '13,500 kms', '3,600 kms', '45,863 kms', '60,500 kms',\n",
       "       '12,500 kms', '18,000 kms', '13,349 kms', '29,000 kms',\n",
       "       '44,000 kms', '42,000 kms', '14,000 kms', '49,000 kms',\n",
       "       '36,200 kms', '51,000 kms', '1,04,000 kms', '33,333 kms',\n",
       "       '33,600 kms', '5,600 kms', '7,500 kms', '24,330 kms', '65,480 kms',\n",
       "       '2,00,000 kms', '59,000 kms', '99,000 kms', '2,800 kms',\n",
       "       '21,000 kms', '11,000 kms', '66,000 kms', '3,000 kms', '7,000 kms',\n",
       "       '38,500 kms', '37,200 kms', '43,200 kms', '24,800 kms',\n",
       "       '45,872 kms', '40,000 kms', '11,400 kms', '97,200 kms',\n",
       "       '52,000 kms', '31,000 kms', '1,75,430 kms', '37,000 kms',\n",
       "       '65,000 kms', '3,350 kms', '75,000 kms', '62,000 kms',\n",
       "       '73,000 kms', '2,200 kms', '54,870 kms', '34,580 kms',\n",
       "       '97,000 kms', '60 kms', '80,200 kms', '3,200 kms', '0,000 kms',\n",
       "       '5,000 kms', '588 kms', '71,200 kms', '1,75,400 kms', '9,300 kms',\n",
       "       '56,758 kms', '10,000 kms', '56,450 kms', '56,000 kms',\n",
       "       '32,700 kms', '9,000 kms', '73 kms', '1,60,000 kms', '58,559 kms',\n",
       "       '57,000 kms', '1,70,000 kms', '80,000 kms', '6,821 kms',\n",
       "       '23,000 kms', '34,000 kms', '1,800 kms', '4,00,000 kms',\n",
       "       '48,000 kms', '90,000 kms', '12,000 kms', '69,900 kms',\n",
       "       '1,66,000 kms', '122 kms', '0 kms', '36,469 kms', '7,800 kms',\n",
       "       '24,695 kms', '15,141 kms', '59,910 kms', '1,00,000 kms',\n",
       "       '4,500 kms', '1,29,000 kms', '300 kms', '1,31,000 kms',\n",
       "       '1,11,111 kms', '59,466 kms', '25,500 kms', '44,005 kms',\n",
       "       '2,110 kms', '43,222 kms', '1,00,200 kms', '65 kms',\n",
       "       '1,40,000 kms', '1,03,553 kms', '58,000 kms', '1,20,000 kms',\n",
       "       '49,800 kms', '100 kms', '81,876 kms', '6,020 kms', '55,700 kms',\n",
       "       '18,500 kms', '53,000 kms', '35,500 kms', '22,134 kms',\n",
       "       '1,000 kms', '8,500 kms', '87,000 kms', '6,000 kms', '8,000 kms',\n",
       "       '55,800 kms', '56,400 kms', '72,160 kms', '11,500 kms',\n",
       "       '1,33,000 kms', '2,000 kms', '88,000 kms', '65,422 kms',\n",
       "       '1,17,000 kms', '1,50,000 kms', '10,750 kms', '6,800 kms',\n",
       "       '9,800 kms', '57,923 kms', '30,201 kms', '6,200 kms', '37,518 kms',\n",
       "       '24,652 kms', '383 kms', '95,000 kms', '3,528 kms', '52,500 kms',\n",
       "       '47,900 kms', '52,800 kms', '1,95,000 kms', '48,008 kms',\n",
       "       '48,247 kms', '9,400 kms', '64,000 kms', '2,137 kms', '10,544 kms',\n",
       "       '1,47,000 kms', '90,001 kms', '48,006 kms', '74,000 kms',\n",
       "       '85,000 kms', '29,500 kms', '39,700 kms', '67,000 kms',\n",
       "       '19,336 kms', '60,105 kms', '45,933 kms', '1,02,563 kms',\n",
       "       '28,600 kms', '41,800 kms', '1,16,000 kms', '42,590 kms',\n",
       "       '7,400 kms', '54,500 kms', '76,000 kms', '00 kms', '11,523 kms',\n",
       "       '38,600 kms', '95,500 kms', '37,458 kms', '85,960 kms',\n",
       "       '12,516 kms', '30,600 kms', '2,550 kms', '62,500 kms',\n",
       "       '69,000 kms', '28,400 kms', '68,485 kms', '3,500 kms',\n",
       "       '85,455 kms', '63,000 kms', '1,600 kms', '77,000 kms',\n",
       "       '26,500 kms', '2,875 kms', '13,900 kms', '1,500 kms', '2,450 kms',\n",
       "       '1,625 kms', '33,400 kms', '60,123 kms', '1,37,495 kms',\n",
       "       '91,200 kms', '1,46,000 kms', '1,00,800 kms', '2,100 kms',\n",
       "       '2,500 kms', '1,32,000 kms'], dtype=object)"
      ]
     },
     "execution_count": 350,
     "metadata": {},
     "output_type": "execute_result"
    }
   ],
   "source": [
    "df['kms_driven'].unique()"
   ]
  },
  {
   "cell_type": "code",
   "execution_count": 351,
   "id": "81997cd2",
   "metadata": {},
   "outputs": [],
   "source": [
    "# replacing str to nan\n",
    "df['kms_driven']=df['kms_driven'].replace(to_replace='Petrol',value=np.nan)"
   ]
  },
  {
   "cell_type": "code",
   "execution_count": 352,
   "id": "3ffe5173",
   "metadata": {},
   "outputs": [],
   "source": [
    "# removing comma from number\n",
    "df['kms_driven']=df['kms_driven'].str.replace(',','').str.split().str[0]"
   ]
  },
  {
   "cell_type": "code",
   "execution_count": 353,
   "id": "07c78809",
   "metadata": {},
   "outputs": [],
   "source": [
    "# finnling nan value with mean\n",
    "driven_mean = int(df['kms_driven'].astype(float).mean())\n",
    "df['kms_driven'].fillna(driven_mean,inplace=True)"
   ]
  },
  {
   "cell_type": "code",
   "execution_count": 354,
   "id": "b7967cc7",
   "metadata": {
    "collapsed": true
   },
   "outputs": [
    {
     "name": "stdout",
     "output_type": "stream",
     "text": [
      "<class 'pandas.core.frame.DataFrame'>\n",
      "RangeIndex: 724 entries, 0 to 723\n",
      "Data columns (total 8 columns):\n",
      " #   Column      Non-Null Count  Dtype \n",
      "---  ------      --------------  ----- \n",
      " 0   index       724 non-null    int64 \n",
      " 1   company     724 non-null    object\n",
      " 2   model       724 non-null    object\n",
      " 3   series      724 non-null    object\n",
      " 4   year        724 non-null    object\n",
      " 5   fuel_type   724 non-null    object\n",
      " 6   kms_driven  724 non-null    object\n",
      " 7   Price       724 non-null    object\n",
      "dtypes: int64(1), object(7)\n",
      "memory usage: 45.4+ KB\n"
     ]
    }
   ],
   "source": [
    "df.info()"
   ]
  },
  {
   "cell_type": "code",
   "execution_count": 355,
   "id": "e6be7d54",
   "metadata": {},
   "outputs": [],
   "source": [
    "df[['year','kms_driven','Price']]=df[['year','kms_driven','Price']].astype(int)"
   ]
  },
  {
   "cell_type": "markdown",
   "id": "ae6d60f2",
   "metadata": {},
   "source": [
    "- Feature engineering done--"
   ]
  },
  {
   "cell_type": "code",
   "execution_count": 356,
   "id": "440e18b0",
   "metadata": {},
   "outputs": [
    {
     "data": {
      "text/plain": [
       "Maruti        202\n",
       "Hyundai       129\n",
       "Mahindra       78\n",
       "Tata           61\n",
       "Honda          51\n",
       "Toyota         34\n",
       "Chevrolet      33\n",
       "Ford           26\n",
       "Renault        26\n",
       "Volkswagen     17\n",
       "Audi           10\n",
       "Skoda          10\n",
       "BMW             8\n",
       "Datsun          6\n",
       "Nissan          6\n",
       "Mercedes        6\n",
       "Mitsubishi      5\n",
       "Mini            3\n",
       "Hindustan       3\n",
       "Fiat            3\n",
       "Force           2\n",
       "Jaguar          2\n",
       "Land            1\n",
       "Jeep            1\n",
       "Volvo           1\n",
       "Name: company, dtype: int64"
      ]
     },
     "execution_count": 356,
     "metadata": {},
     "output_type": "execute_result"
    }
   ],
   "source": [
    "df['company'].value_counts()"
   ]
  },
  {
   "cell_type": "code",
   "execution_count": 357,
   "id": "a0b894b0",
   "metadata": {},
   "outputs": [
    {
     "data": {
      "text/plain": [
       "Suzuki Swift        46\n",
       "Suzuki Alto         40\n",
       "Suzuki Wagon        26\n",
       "Suzuki Ertiga       15\n",
       "Santro Xing         14\n",
       "                    ..\n",
       "Sonata Transform     1\n",
       "Micra XV             1\n",
       "Beat                 1\n",
       "Vento Konekt         1\n",
       "Zest XM              1\n",
       "Name: model, Length: 254, dtype: int64"
      ]
     },
     "execution_count": 357,
     "metadata": {},
     "output_type": "execute_result"
    }
   ],
   "source": [
    "df['model'].value_counts()"
   ]
  },
  {
   "cell_type": "code",
   "execution_count": 358,
   "id": "64ea9212",
   "metadata": {},
   "outputs": [
    {
     "data": {
      "text/plain": [
       "                            185\n",
       "Diesel                       13\n",
       "1.2                          12\n",
       "Plus                         11\n",
       "VDi                          11\n",
       "                           ... \n",
       "PS RxL Explore LE             1\n",
       "CLXi NXt Finesse              1\n",
       "Diesel Ambiente               1\n",
       "Class A 180 Sport Petrol      1\n",
       "DLE BS III                    1\n",
       "Name: series, Length: 312, dtype: int64"
      ]
     },
     "execution_count": 358,
     "metadata": {},
     "output_type": "execute_result"
    }
   ],
   "source": [
    "df['series'].value_counts()"
   ]
  },
  {
   "cell_type": "code",
   "execution_count": 359,
   "id": "c836c68c",
   "metadata": {},
   "outputs": [
    {
     "data": {
      "text/plain": [
       "Petrol    390\n",
       "Diesel    332\n",
       "LPG         2\n",
       "Name: fuel_type, dtype: int64"
      ]
     },
     "execution_count": 359,
     "metadata": {},
     "output_type": "execute_result"
    }
   ],
   "source": [
    "df['fuel_type'].value_counts()"
   ]
  },
  {
   "cell_type": "code",
   "execution_count": 360,
   "id": "60727fe5",
   "metadata": {},
   "outputs": [
    {
     "data": {
      "text/plain": [
       "2015    87\n",
       "2014    84\n",
       "2013    75\n",
       "2016    69\n",
       "2012    63\n",
       "2011    55\n",
       "2009    50\n",
       "2017    48\n",
       "2010    41\n",
       "2018    28\n",
       "2006    21\n",
       "2007    17\n",
       "2019    16\n",
       "2008    15\n",
       "2005    13\n",
       "2003    13\n",
       "2004    11\n",
       "2000     7\n",
       "2001     5\n",
       "2002     4\n",
       "1995     2\n",
       "Name: year, dtype: int64"
      ]
     },
     "execution_count": 360,
     "metadata": {},
     "output_type": "execute_result"
    }
   ],
   "source": [
    "df['year'].value_counts()"
   ]
  },
  {
   "cell_type": "code",
   "execution_count": 374,
   "id": "7029839d",
   "metadata": {},
   "outputs": [
    {
     "data": {
      "text/html": [
       "<div>\n",
       "<style scoped>\n",
       "    .dataframe tbody tr th:only-of-type {\n",
       "        vertical-align: middle;\n",
       "    }\n",
       "\n",
       "    .dataframe tbody tr th {\n",
       "        vertical-align: top;\n",
       "    }\n",
       "\n",
       "    .dataframe thead th {\n",
       "        text-align: right;\n",
       "    }\n",
       "</style>\n",
       "<table border=\"1\" class=\"dataframe\">\n",
       "  <thead>\n",
       "    <tr style=\"text-align: right;\">\n",
       "      <th></th>\n",
       "      <th>index</th>\n",
       "      <th>company</th>\n",
       "      <th>model</th>\n",
       "      <th>series</th>\n",
       "      <th>year</th>\n",
       "      <th>fuel_type</th>\n",
       "      <th>kms_driven</th>\n",
       "      <th>Price</th>\n",
       "    </tr>\n",
       "  </thead>\n",
       "  <tbody>\n",
       "    <tr>\n",
       "      <th>591</th>\n",
       "      <td>721</td>\n",
       "      <td>Maruti</td>\n",
       "      <td>Suzuki Zen</td>\n",
       "      <td>Estilo LXI Green CNG</td>\n",
       "      <td>2009</td>\n",
       "      <td>Petrol</td>\n",
       "      <td>0</td>\n",
       "      <td>125000</td>\n",
       "    </tr>\n",
       "    <tr>\n",
       "      <th>627</th>\n",
       "      <td>762</td>\n",
       "      <td>Tata</td>\n",
       "      <td>Tiago Revotorq</td>\n",
       "      <td>XZ</td>\n",
       "      <td>2019</td>\n",
       "      <td>Petrol</td>\n",
       "      <td>0</td>\n",
       "      <td>568500</td>\n",
       "    </tr>\n",
       "    <tr>\n",
       "      <th>178</th>\n",
       "      <td>220</td>\n",
       "      <td>Mahindra</td>\n",
       "      <td>Jeep CL550</td>\n",
       "      <td>MDI</td>\n",
       "      <td>2019</td>\n",
       "      <td>Diesel</td>\n",
       "      <td>0</td>\n",
       "      <td>379000</td>\n",
       "    </tr>\n",
       "    <tr>\n",
       "      <th>295</th>\n",
       "      <td>387</td>\n",
       "      <td>Toyota</td>\n",
       "      <td>Innova 2.5</td>\n",
       "      <td>E MS 7 STR BS IV</td>\n",
       "      <td>2012</td>\n",
       "      <td>Diesel</td>\n",
       "      <td>0</td>\n",
       "      <td>770000</td>\n",
       "    </tr>\n",
       "    <tr>\n",
       "      <th>604</th>\n",
       "      <td>738</td>\n",
       "      <td>Hyundai</td>\n",
       "      <td>Creta 1.6</td>\n",
       "      <td>SX</td>\n",
       "      <td>2019</td>\n",
       "      <td>Petrol</td>\n",
       "      <td>0</td>\n",
       "      <td>1200000</td>\n",
       "    </tr>\n",
       "    <tr>\n",
       "      <th>572</th>\n",
       "      <td>702</td>\n",
       "      <td>Ford</td>\n",
       "      <td>Figo Petrol</td>\n",
       "      <td>Titanium</td>\n",
       "      <td>2019</td>\n",
       "      <td>Petrol</td>\n",
       "      <td>0</td>\n",
       "      <td>525000</td>\n",
       "    </tr>\n",
       "    <tr>\n",
       "      <th>1</th>\n",
       "      <td>1</td>\n",
       "      <td>Mahindra</td>\n",
       "      <td>Jeep CL550</td>\n",
       "      <td>MDI</td>\n",
       "      <td>2006</td>\n",
       "      <td>Diesel</td>\n",
       "      <td>40</td>\n",
       "      <td>425000</td>\n",
       "    </tr>\n",
       "    <tr>\n",
       "      <th>174</th>\n",
       "      <td>215</td>\n",
       "      <td>Mahindra</td>\n",
       "      <td>Jeep MM</td>\n",
       "      <td>550 XDB</td>\n",
       "      <td>2019</td>\n",
       "      <td>Diesel</td>\n",
       "      <td>60</td>\n",
       "      <td>390000</td>\n",
       "    </tr>\n",
       "    <tr>\n",
       "      <th>364</th>\n",
       "      <td>470</td>\n",
       "      <td>Maruti</td>\n",
       "      <td>Suzuki Swift</td>\n",
       "      <td>Dzire Tour VXi</td>\n",
       "      <td>2011</td>\n",
       "      <td>Petrol</td>\n",
       "      <td>65</td>\n",
       "      <td>230000</td>\n",
       "    </tr>\n",
       "    <tr>\n",
       "      <th>230</th>\n",
       "      <td>302</td>\n",
       "      <td>Maruti</td>\n",
       "      <td>Suzuki Swift</td>\n",
       "      <td>VXi 1.2 ABS BS IV</td>\n",
       "      <td>2019</td>\n",
       "      <td>Petrol</td>\n",
       "      <td>73</td>\n",
       "      <td>610000</td>\n",
       "    </tr>\n",
       "  </tbody>\n",
       "</table>\n",
       "</div>"
      ],
      "text/plain": [
       "     index   company           model                series  year fuel_type  \\\n",
       "591    721    Maruti      Suzuki Zen  Estilo LXI Green CNG  2009    Petrol   \n",
       "627    762      Tata  Tiago Revotorq                    XZ  2019    Petrol   \n",
       "178    220  Mahindra      Jeep CL550                   MDI  2019    Diesel   \n",
       "295    387    Toyota      Innova 2.5      E MS 7 STR BS IV  2012    Diesel   \n",
       "604    738   Hyundai       Creta 1.6                    SX  2019    Petrol   \n",
       "572    702      Ford     Figo Petrol              Titanium  2019    Petrol   \n",
       "1        1  Mahindra      Jeep CL550                   MDI  2006    Diesel   \n",
       "174    215  Mahindra         Jeep MM               550 XDB  2019    Diesel   \n",
       "364    470    Maruti    Suzuki Swift        Dzire Tour VXi  2011    Petrol   \n",
       "230    302    Maruti    Suzuki Swift     VXi 1.2 ABS BS IV  2019    Petrol   \n",
       "\n",
       "     kms_driven    Price  \n",
       "591           0   125000  \n",
       "627           0   568500  \n",
       "178           0   379000  \n",
       "295           0   770000  \n",
       "604           0  1200000  \n",
       "572           0   525000  \n",
       "1            40   425000  \n",
       "174          60   390000  \n",
       "364          65   230000  \n",
       "230          73   610000  "
      ]
     },
     "execution_count": 374,
     "metadata": {},
     "output_type": "execute_result"
    }
   ],
   "source": [
    "# least kms driven\n",
    "df.sort_values(by='kms_driven').head(10)"
   ]
  },
  {
   "cell_type": "code",
   "execution_count": 375,
   "id": "99341403",
   "metadata": {},
   "outputs": [
    {
     "data": {
      "text/html": [
       "<div>\n",
       "<style scoped>\n",
       "    .dataframe tbody tr th:only-of-type {\n",
       "        vertical-align: middle;\n",
       "    }\n",
       "\n",
       "    .dataframe tbody tr th {\n",
       "        vertical-align: top;\n",
       "    }\n",
       "\n",
       "    .dataframe thead th {\n",
       "        text-align: right;\n",
       "    }\n",
       "</style>\n",
       "<table border=\"1\" class=\"dataframe\">\n",
       "  <thead>\n",
       "    <tr style=\"text-align: right;\">\n",
       "      <th></th>\n",
       "      <th>index</th>\n",
       "      <th>company</th>\n",
       "      <th>model</th>\n",
       "      <th>series</th>\n",
       "      <th>year</th>\n",
       "      <th>fuel_type</th>\n",
       "      <th>kms_driven</th>\n",
       "      <th>Price</th>\n",
       "    </tr>\n",
       "  </thead>\n",
       "  <tbody>\n",
       "    <tr>\n",
       "      <th>280</th>\n",
       "      <td>362</td>\n",
       "      <td>Honda</td>\n",
       "      <td>City 1.5</td>\n",
       "      <td>V MT Exclusive</td>\n",
       "      <td>2010</td>\n",
       "      <td>Petrol</td>\n",
       "      <td>400000</td>\n",
       "      <td>240000</td>\n",
       "    </tr>\n",
       "    <tr>\n",
       "      <th>111</th>\n",
       "      <td>139</td>\n",
       "      <td>Hindustan</td>\n",
       "      <td>Motors Ambassador</td>\n",
       "      <td></td>\n",
       "      <td>2000</td>\n",
       "      <td>Diesel</td>\n",
       "      <td>200000</td>\n",
       "      <td>70000</td>\n",
       "    </tr>\n",
       "    <tr>\n",
       "      <th>560</th>\n",
       "      <td>690</td>\n",
       "      <td>Maruti</td>\n",
       "      <td>Suzuki Ertiga</td>\n",
       "      <td>Vxi</td>\n",
       "      <td>2012</td>\n",
       "      <td>Diesel</td>\n",
       "      <td>200000</td>\n",
       "      <td>1000000</td>\n",
       "    </tr>\n",
       "    <tr>\n",
       "      <th>493</th>\n",
       "      <td>612</td>\n",
       "      <td>Tata</td>\n",
       "      <td>Manza Aqua</td>\n",
       "      <td>Quadrajet</td>\n",
       "      <td>2014</td>\n",
       "      <td>Diesel</td>\n",
       "      <td>200000</td>\n",
       "      <td>160000</td>\n",
       "    </tr>\n",
       "    <tr>\n",
       "      <th>473</th>\n",
       "      <td>589</td>\n",
       "      <td>Tata</td>\n",
       "      <td>Indigo eCS</td>\n",
       "      <td>LX TDI BS III</td>\n",
       "      <td>2014</td>\n",
       "      <td>Diesel</td>\n",
       "      <td>195000</td>\n",
       "      <td>95000</td>\n",
       "    </tr>\n",
       "    <tr>\n",
       "      <th>149</th>\n",
       "      <td>183</td>\n",
       "      <td>Tata</td>\n",
       "      <td>Indigo eCS</td>\n",
       "      <td>LX TDI BS III</td>\n",
       "      <td>2016</td>\n",
       "      <td>Diesel</td>\n",
       "      <td>175430</td>\n",
       "      <td>320000</td>\n",
       "    </tr>\n",
       "    <tr>\n",
       "      <th>194</th>\n",
       "      <td>238</td>\n",
       "      <td>Tata</td>\n",
       "      <td>Indigo eCS</td>\n",
       "      <td>LX TDI BS III</td>\n",
       "      <td>2016</td>\n",
       "      <td>Diesel</td>\n",
       "      <td>175400</td>\n",
       "      <td>320000</td>\n",
       "    </tr>\n",
       "    <tr>\n",
       "      <th>238</th>\n",
       "      <td>313</td>\n",
       "      <td>Mahindra</td>\n",
       "      <td>Scorpio 2.6</td>\n",
       "      <td>CRDe</td>\n",
       "      <td>2007</td>\n",
       "      <td>Diesel</td>\n",
       "      <td>170000</td>\n",
       "      <td>220000</td>\n",
       "    </tr>\n",
       "    <tr>\n",
       "      <th>289</th>\n",
       "      <td>379</td>\n",
       "      <td>Maruti</td>\n",
       "      <td>Suzuki Swift</td>\n",
       "      <td>Dzire Tour LDi</td>\n",
       "      <td>2016</td>\n",
       "      <td>Diesel</td>\n",
       "      <td>166000</td>\n",
       "      <td>350000</td>\n",
       "    </tr>\n",
       "    <tr>\n",
       "      <th>231</th>\n",
       "      <td>303</td>\n",
       "      <td>Mahindra</td>\n",
       "      <td>Scorpio VLX</td>\n",
       "      <td>Special Edition BS III</td>\n",
       "      <td>2004</td>\n",
       "      <td>Diesel</td>\n",
       "      <td>160000</td>\n",
       "      <td>230000</td>\n",
       "    </tr>\n",
       "  </tbody>\n",
       "</table>\n",
       "</div>"
      ],
      "text/plain": [
       "     index    company              model                  series  year  \\\n",
       "280    362      Honda           City 1.5          V MT Exclusive  2010   \n",
       "111    139  Hindustan  Motors Ambassador                          2000   \n",
       "560    690     Maruti      Suzuki Ertiga                     Vxi  2012   \n",
       "493    612       Tata         Manza Aqua               Quadrajet  2014   \n",
       "473    589       Tata         Indigo eCS           LX TDI BS III  2014   \n",
       "149    183       Tata         Indigo eCS           LX TDI BS III  2016   \n",
       "194    238       Tata         Indigo eCS           LX TDI BS III  2016   \n",
       "238    313   Mahindra        Scorpio 2.6                    CRDe  2007   \n",
       "289    379     Maruti       Suzuki Swift          Dzire Tour LDi  2016   \n",
       "231    303   Mahindra        Scorpio VLX  Special Edition BS III  2004   \n",
       "\n",
       "    fuel_type  kms_driven    Price  \n",
       "280    Petrol      400000   240000  \n",
       "111    Diesel      200000    70000  \n",
       "560    Diesel      200000  1000000  \n",
       "493    Diesel      200000   160000  \n",
       "473    Diesel      195000    95000  \n",
       "149    Diesel      175430   320000  \n",
       "194    Diesel      175400   320000  \n",
       "238    Diesel      170000   220000  \n",
       "289    Diesel      166000   350000  \n",
       "231    Diesel      160000   230000  "
      ]
     },
     "execution_count": 375,
     "metadata": {},
     "output_type": "execute_result"
    }
   ],
   "source": [
    "# most kms driven\n",
    "df.sort_values(by='kms_driven',ascending=False).head(10)"
   ]
  },
  {
   "cell_type": "code",
   "execution_count": 362,
   "id": "88601efa",
   "metadata": {},
   "outputs": [
    {
     "name": "stderr",
     "output_type": "stream",
     "text": [
      "C:\\Users\\withu\\anaconda3\\lib\\site-packages\\seaborn\\distributions.py:2619: FutureWarning: `distplot` is a deprecated function and will be removed in a future version. Please adapt your code to use either `displot` (a figure-level function with similar flexibility) or `histplot` (an axes-level function for histograms).\n",
      "  warnings.warn(msg, FutureWarning)\n"
     ]
    },
    {
     "data": {
      "text/plain": [
       "<AxesSubplot:xlabel='year', ylabel='Density'>"
      ]
     },
     "execution_count": 362,
     "metadata": {},
     "output_type": "execute_result"
    },
    {
     "data": {
      "image/png": "[encoded data removed]",
      "text/plain": [
       "<Figure size 432x288 with 1 Axes>"
      ]
     },
     "metadata": {
      "needs_background": "light"
     },
     "output_type": "display_data"
    }
   ],
   "source": [
    "sns.distplot(df['year'])"
   ]
  },
  {
   "cell_type": "code",
   "execution_count": 363,
   "id": "6e56dea5",
   "metadata": {},
   "outputs": [
    {
     "name": "stderr",
     "output_type": "stream",
     "text": [
      "C:\\Users\\withu\\anaconda3\\lib\\site-packages\\seaborn\\distributions.py:2619: FutureWarning: `distplot` is a deprecated function and will be removed in a future version. Please adapt your code to use either `displot` (a figure-level function with similar flexibility) or `histplot` (an axes-level function for histograms).\n",
      "  warnings.warn(msg, FutureWarning)\n"
     ]
    },
    {
     "data": {
      "text/plain": [
       "<AxesSubplot:xlabel='kms_driven', ylabel='Density'>"
      ]
     },
     "execution_count": 363,
     "metadata": {},
     "output_type": "execute_result"
    },
    {
     "data": {
      "image/png": "[encoded data removed]",
      "text/plain": [
       "<Figure size 432x288 with 1 Axes>"
      ]
     },
     "metadata": {
      "needs_background": "light"
     },
     "output_type": "display_data"
    }
   ],
   "source": [
    "sns.distplot(df['kms_driven'])"
   ]
  },
  {
   "cell_type": "code",
   "execution_count": 364,
   "id": "f0645080",
   "metadata": {},
   "outputs": [
    {
     "name": "stderr",
     "output_type": "stream",
     "text": [
      "C:\\Users\\withu\\anaconda3\\lib\\site-packages\\seaborn\\distributions.py:2619: FutureWarning: `distplot` is a deprecated function and will be removed in a future version. Please adapt your code to use either `displot` (a figure-level function with similar flexibility) or `histplot` (an axes-level function for histograms).\n",
      "  warnings.warn(msg, FutureWarning)\n"
     ]
    },
    {
     "data": {
      "text/plain": [
       "<AxesSubplot:xlabel='Price', ylabel='Density'>"
      ]
     },
     "execution_count": 364,
     "metadata": {},
     "output_type": "execute_result"
    },
    {
     "data": {
      "image/png": "[encoded data removed]",
      "text/plain": [
       "<Figure size 432x288 with 1 Axes>"
      ]
     },
     "metadata": {
      "needs_background": "light"
     },
     "output_type": "display_data"
    }
   ],
   "source": [
    "sns.distplot(df['Price'])"
   ]
  },
  {
   "cell_type": "code",
   "execution_count": 382,
   "id": "538e5ea6",
   "metadata": {},
   "outputs": [
    {
     "data": {
      "text/html": [
       "<div>\n",
       "<style scoped>\n",
       "    .dataframe tbody tr th:only-of-type {\n",
       "        vertical-align: middle;\n",
       "    }\n",
       "\n",
       "    .dataframe tbody tr th {\n",
       "        vertical-align: top;\n",
       "    }\n",
       "\n",
       "    .dataframe thead th {\n",
       "        text-align: right;\n",
       "    }\n",
       "</style>\n",
       "<table border=\"1\" class=\"dataframe\">\n",
       "  <thead>\n",
       "    <tr style=\"text-align: right;\">\n",
       "      <th></th>\n",
       "      <th>index</th>\n",
       "      <th>company</th>\n",
       "      <th>model</th>\n",
       "      <th>series</th>\n",
       "      <th>year</th>\n",
       "      <th>fuel_type</th>\n",
       "      <th>kms_driven</th>\n",
       "      <th>Price</th>\n",
       "    </tr>\n",
       "  </thead>\n",
       "  <tbody>\n",
       "    <tr>\n",
       "      <th>692</th>\n",
       "      <td>851</td>\n",
       "      <td>Maruti</td>\n",
       "      <td>Suzuki 800</td>\n",
       "      <td>Std BS III</td>\n",
       "      <td>2000</td>\n",
       "      <td>Petrol</td>\n",
       "      <td>33400</td>\n",
       "      <td>30000</td>\n",
       "    </tr>\n",
       "    <tr>\n",
       "      <th>296</th>\n",
       "      <td>389</td>\n",
       "      <td>Maruti</td>\n",
       "      <td>Suzuki Maruti</td>\n",
       "      <td>800 Std – Befo</td>\n",
       "      <td>1995</td>\n",
       "      <td>Petrol</td>\n",
       "      <td>55000</td>\n",
       "      <td>30000</td>\n",
       "    </tr>\n",
       "    <tr>\n",
       "      <th>350</th>\n",
       "      <td>454</td>\n",
       "      <td>Tata</td>\n",
       "      <td>Nano GenX</td>\n",
       "      <td>XMA</td>\n",
       "      <td>2010</td>\n",
       "      <td>Petrol</td>\n",
       "      <td>44005</td>\n",
       "      <td>32000</td>\n",
       "    </tr>\n",
       "    <tr>\n",
       "      <th>481</th>\n",
       "      <td>598</td>\n",
       "      <td>Tata</td>\n",
       "      <td>Nano LX</td>\n",
       "      <td>Special Edition</td>\n",
       "      <td>2010</td>\n",
       "      <td>Petrol</td>\n",
       "      <td>48008</td>\n",
       "      <td>32000</td>\n",
       "    </tr>\n",
       "    <tr>\n",
       "      <th>439</th>\n",
       "      <td>553</td>\n",
       "      <td>Tata</td>\n",
       "      <td>Indica V2</td>\n",
       "      <td>DLG</td>\n",
       "      <td>2005</td>\n",
       "      <td>Diesel</td>\n",
       "      <td>150000</td>\n",
       "      <td>35000</td>\n",
       "    </tr>\n",
       "    <tr>\n",
       "      <th>677</th>\n",
       "      <td>834</td>\n",
       "      <td>Maruti</td>\n",
       "      <td>Suzuki Omni</td>\n",
       "      <td></td>\n",
       "      <td>2000</td>\n",
       "      <td>Petrol</td>\n",
       "      <td>60000</td>\n",
       "      <td>35999</td>\n",
       "    </tr>\n",
       "    <tr>\n",
       "      <th>682</th>\n",
       "      <td>839</td>\n",
       "      <td>Tata</td>\n",
       "      <td>Indica V2</td>\n",
       "      <td></td>\n",
       "      <td>2005</td>\n",
       "      <td>Diesel</td>\n",
       "      <td>80000</td>\n",
       "      <td>39999</td>\n",
       "    </tr>\n",
       "    <tr>\n",
       "      <th>415</th>\n",
       "      <td>529</td>\n",
       "      <td>Maruti</td>\n",
       "      <td>Suzuki Maruti</td>\n",
       "      <td>800 AC</td>\n",
       "      <td>2001</td>\n",
       "      <td>Petrol</td>\n",
       "      <td>75000</td>\n",
       "      <td>40000</td>\n",
       "    </tr>\n",
       "    <tr>\n",
       "      <th>314</th>\n",
       "      <td>412</td>\n",
       "      <td>Maruti</td>\n",
       "      <td>Suzuki Zen</td>\n",
       "      <td>LXi BSII</td>\n",
       "      <td>2001</td>\n",
       "      <td>Petrol</td>\n",
       "      <td>40000</td>\n",
       "      <td>40000</td>\n",
       "    </tr>\n",
       "    <tr>\n",
       "      <th>162</th>\n",
       "      <td>201</td>\n",
       "      <td>Tata</td>\n",
       "      <td>Nano Cx</td>\n",
       "      <td>BSIV</td>\n",
       "      <td>2013</td>\n",
       "      <td>Petrol</td>\n",
       "      <td>2200</td>\n",
       "      <td>40000</td>\n",
       "    </tr>\n",
       "  </tbody>\n",
       "</table>\n",
       "</div>"
      ],
      "text/plain": [
       "     index company          model           series  year fuel_type  \\\n",
       "692    851  Maruti     Suzuki 800       Std BS III  2000    Petrol   \n",
       "296    389  Maruti  Suzuki Maruti   800 Std – Befo  1995    Petrol   \n",
       "350    454    Tata      Nano GenX              XMA  2010    Petrol   \n",
       "481    598    Tata        Nano LX  Special Edition  2010    Petrol   \n",
       "439    553    Tata      Indica V2              DLG  2005    Diesel   \n",
       "677    834  Maruti    Suzuki Omni                   2000    Petrol   \n",
       "682    839    Tata      Indica V2                   2005    Diesel   \n",
       "415    529  Maruti  Suzuki Maruti           800 AC  2001    Petrol   \n",
       "314    412  Maruti     Suzuki Zen         LXi BSII  2001    Petrol   \n",
       "162    201    Tata        Nano Cx             BSIV  2013    Petrol   \n",
       "\n",
       "     kms_driven  Price  \n",
       "692       33400  30000  \n",
       "296       55000  30000  \n",
       "350       44005  32000  \n",
       "481       48008  32000  \n",
       "439      150000  35000  \n",
       "677       60000  35999  \n",
       "682       80000  39999  \n",
       "415       75000  40000  \n",
       "314       40000  40000  \n",
       "162        2200  40000  "
      ]
     },
     "execution_count": 382,
     "metadata": {},
     "output_type": "execute_result"
    }
   ],
   "source": [
    "df.sort_values(by='Price').head(10)"
   ]
  },
  {
   "cell_type": "code",
   "execution_count": 383,
   "id": "5e2edfeb",
   "metadata": {},
   "outputs": [
    {
     "data": {
      "text/html": [
       "<div>\n",
       "<style scoped>\n",
       "    .dataframe tbody tr th:only-of-type {\n",
       "        vertical-align: middle;\n",
       "    }\n",
       "\n",
       "    .dataframe tbody tr th {\n",
       "        vertical-align: top;\n",
       "    }\n",
       "\n",
       "    .dataframe thead th {\n",
       "        text-align: right;\n",
       "    }\n",
       "</style>\n",
       "<table border=\"1\" class=\"dataframe\">\n",
       "  <thead>\n",
       "    <tr style=\"text-align: right;\">\n",
       "      <th></th>\n",
       "      <th>index</th>\n",
       "      <th>company</th>\n",
       "      <th>model</th>\n",
       "      <th>series</th>\n",
       "      <th>year</th>\n",
       "      <th>fuel_type</th>\n",
       "      <th>kms_driven</th>\n",
       "      <th>Price</th>\n",
       "    </tr>\n",
       "  </thead>\n",
       "  <tbody>\n",
       "    <tr>\n",
       "      <th>201</th>\n",
       "      <td>249</td>\n",
       "      <td>Mini</td>\n",
       "      <td>Cooper S</td>\n",
       "      <td></td>\n",
       "      <td>2013</td>\n",
       "      <td>Petrol</td>\n",
       "      <td>13000</td>\n",
       "      <td>1891111</td>\n",
       "    </tr>\n",
       "    <tr>\n",
       "      <th>548</th>\n",
       "      <td>678</td>\n",
       "      <td>Audi</td>\n",
       "      <td>A4 2.0</td>\n",
       "      <td>TDI 177bhp Premium</td>\n",
       "      <td>2016</td>\n",
       "      <td>Diesel</td>\n",
       "      <td>44000</td>\n",
       "      <td>1900000</td>\n",
       "    </tr>\n",
       "    <tr>\n",
       "      <th>188</th>\n",
       "      <td>231</td>\n",
       "      <td>Mercedes</td>\n",
       "      <td>Benz GLA</td>\n",
       "      <td>Class 200 CDI Sport</td>\n",
       "      <td>2015</td>\n",
       "      <td>Diesel</td>\n",
       "      <td>20000</td>\n",
       "      <td>2000000</td>\n",
       "    </tr>\n",
       "    <tr>\n",
       "      <th>189</th>\n",
       "      <td>232</td>\n",
       "      <td>Land</td>\n",
       "      <td>Rover Freelander</td>\n",
       "      <td>2 SE</td>\n",
       "      <td>2015</td>\n",
       "      <td>Diesel</td>\n",
       "      <td>30000</td>\n",
       "      <td>2100000</td>\n",
       "    </tr>\n",
       "    <tr>\n",
       "      <th>537</th>\n",
       "      <td>667</td>\n",
       "      <td>Jaguar</td>\n",
       "      <td>XF 2.2</td>\n",
       "      <td>Diesel Luxury</td>\n",
       "      <td>2013</td>\n",
       "      <td>Diesel</td>\n",
       "      <td>29000</td>\n",
       "      <td>2190000</td>\n",
       "    </tr>\n",
       "    <tr>\n",
       "      <th>538</th>\n",
       "      <td>668</td>\n",
       "      <td>Audi</td>\n",
       "      <td>Q5 2.0</td>\n",
       "      <td>TDI quattro Premium Plus</td>\n",
       "      <td>2014</td>\n",
       "      <td>Diesel</td>\n",
       "      <td>34000</td>\n",
       "      <td>2390000</td>\n",
       "    </tr>\n",
       "    <tr>\n",
       "      <th>398</th>\n",
       "      <td>510</td>\n",
       "      <td>Jaguar</td>\n",
       "      <td>XE XE</td>\n",
       "      <td>Portfolio</td>\n",
       "      <td>2016</td>\n",
       "      <td>Petrol</td>\n",
       "      <td>8500</td>\n",
       "      <td>2800000</td>\n",
       "    </tr>\n",
       "    <tr>\n",
       "      <th>681</th>\n",
       "      <td>838</td>\n",
       "      <td>Ford</td>\n",
       "      <td>Endeavor 4x4</td>\n",
       "      <td>Thunder Plus</td>\n",
       "      <td>2019</td>\n",
       "      <td>Diesel</td>\n",
       "      <td>9000</td>\n",
       "      <td>2900000</td>\n",
       "    </tr>\n",
       "    <tr>\n",
       "      <th>589</th>\n",
       "      <td>719</td>\n",
       "      <td>Audi</td>\n",
       "      <td>A3 Cabriolet</td>\n",
       "      <td>40 TFSI</td>\n",
       "      <td>2015</td>\n",
       "      <td>Petrol</td>\n",
       "      <td>12516</td>\n",
       "      <td>3100000</td>\n",
       "    </tr>\n",
       "    <tr>\n",
       "      <th>447</th>\n",
       "      <td>562</td>\n",
       "      <td>Mahindra</td>\n",
       "      <td>XUV500 W6</td>\n",
       "      <td></td>\n",
       "      <td>2014</td>\n",
       "      <td>Diesel</td>\n",
       "      <td>45000</td>\n",
       "      <td>8500003</td>\n",
       "    </tr>\n",
       "  </tbody>\n",
       "</table>\n",
       "</div>"
      ],
      "text/plain": [
       "     index   company             model                    series  year  \\\n",
       "201    249      Mini          Cooper S                            2013   \n",
       "548    678      Audi            A4 2.0        TDI 177bhp Premium  2016   \n",
       "188    231  Mercedes          Benz GLA       Class 200 CDI Sport  2015   \n",
       "189    232      Land  Rover Freelander                      2 SE  2015   \n",
       "537    667    Jaguar            XF 2.2             Diesel Luxury  2013   \n",
       "538    668      Audi            Q5 2.0  TDI quattro Premium Plus  2014   \n",
       "398    510    Jaguar             XE XE                 Portfolio  2016   \n",
       "681    838      Ford      Endeavor 4x4              Thunder Plus  2019   \n",
       "589    719      Audi      A3 Cabriolet                   40 TFSI  2015   \n",
       "447    562  Mahindra         XUV500 W6                            2014   \n",
       "\n",
       "    fuel_type  kms_driven    Price  \n",
       "201    Petrol       13000  1891111  \n",
       "548    Diesel       44000  1900000  \n",
       "188    Diesel       20000  2000000  \n",
       "189    Diesel       30000  2100000  \n",
       "537    Diesel       29000  2190000  \n",
       "538    Diesel       34000  2390000  \n",
       "398    Petrol        8500  2800000  \n",
       "681    Diesel        9000  2900000  \n",
       "589    Petrol       12516  3100000  \n",
       "447    Diesel       45000  8500003  "
      ]
     },
     "execution_count": 383,
     "metadata": {},
     "output_type": "execute_result"
    }
   ],
   "source": [
    "df.sort_values(by='Price').tail(10)"
   ]
  },
  {
   "cell_type": "code",
   "execution_count": 393,
   "id": "42cb1b6c",
   "metadata": {},
   "outputs": [
    {
     "data": {
      "text/plain": [
       "<AxesSubplot:xlabel='Price'>"
      ]
     },
     "execution_count": 393,
     "metadata": {},
     "output_type": "execute_result"
    },
    {
     "data": {
      "image/png": "[encoded data removed]",
      "text/plain": [
       "<Figure size 1080x360 with 1 Axes>"
      ]
     },
     "metadata": {
      "needs_background": "light"
     },
     "output_type": "display_data"
    }
   ],
   "source": [
    "plt.figure(figsize=(15,5))\n",
    "sns.boxplot(x=df['Price'])"
   ]
  },
  {
   "cell_type": "code",
   "execution_count": 401,
   "id": "e12c21dd",
   "metadata": {},
   "outputs": [
    {
     "name": "stdout",
     "output_type": "stream",
     "text": [
      "\n",
      "Q1 : 165000.0\n",
      "Q3 : 489999.0\n",
      "IQR: 324999.0\n",
      "Lower fence :-322498.5\n",
      "Upper fence :977497.5\n",
      "\n",
      "\n"
     ]
    }
   ],
   "source": [
    "q1=df['Price'].quantile(0.25)\n",
    "q3=df['Price'].quantile(0.75)\n",
    "iqr = q3-q1\n",
    "lower_value = q1-1.5*iqr\n",
    "upper_value = q3+1.5*iqr\n",
    "print(f\"\"\"\n",
    "Q1 : {q1}\n",
    "Q3 : {q3}\n",
    "IQR: {iqr}\n",
    "Lower fence :{lower_value}\n",
    "Upper fence :{upper_value}\n",
    "\n",
    "\"\"\")"
   ]
  },
  {
   "cell_type": "code",
   "execution_count": 399,
   "id": "da026c2b",
   "metadata": {},
   "outputs": [
    {
     "data": {
      "text/html": [
       "<div>\n",
       "<style scoped>\n",
       "    .dataframe tbody tr th:only-of-type {\n",
       "        vertical-align: middle;\n",
       "    }\n",
       "\n",
       "    .dataframe tbody tr th {\n",
       "        vertical-align: top;\n",
       "    }\n",
       "\n",
       "    .dataframe thead th {\n",
       "        text-align: right;\n",
       "    }\n",
       "</style>\n",
       "<table border=\"1\" class=\"dataframe\">\n",
       "  <thead>\n",
       "    <tr style=\"text-align: right;\">\n",
       "      <th></th>\n",
       "      <th>index</th>\n",
       "      <th>company</th>\n",
       "      <th>model</th>\n",
       "      <th>series</th>\n",
       "      <th>year</th>\n",
       "      <th>fuel_type</th>\n",
       "      <th>kms_driven</th>\n",
       "      <th>Price</th>\n",
       "    </tr>\n",
       "  </thead>\n",
       "  <tbody>\n",
       "  </tbody>\n",
       "</table>\n",
       "</div>"
      ],
      "text/plain": [
       "Empty DataFrame\n",
       "Columns: [index, company, model, series, year, fuel_type, kms_driven, Price]\n",
       "Index: []"
      ]
     },
     "execution_count": 399,
     "metadata": {},
     "output_type": "execute_result"
    }
   ],
   "source": [
    "df[df['Price']<lower_value]"
   ]
  },
  {
   "cell_type": "code",
   "execution_count": null,
   "id": "fba41b91",
   "metadata": {},
   "outputs": [],
   "source": []
  },
  {
   "cell_type": "code",
   "execution_count": 368,
   "id": "53fe29a2",
   "metadata": {},
   "outputs": [
    {
     "data": {
      "text/plain": [
       "index         0\n",
       "company       0\n",
       "model         0\n",
       "series        0\n",
       "year          0\n",
       "fuel_type     0\n",
       "kms_driven    0\n",
       "Price         0\n",
       "dtype: int64"
      ]
     },
     "execution_count": 368,
     "metadata": {},
     "output_type": "execute_result"
    }
   ],
   "source": [
    "df.isnull().sum()"
   ]
  },
  {
   "cell_type": "code",
   "execution_count": 403,
   "id": "f3cef38a",
   "metadata": {},
   "outputs": [
    {
     "name": "stderr",
     "output_type": "stream",
     "text": [
      "C:\\Users\\withu\\anaconda3\\lib\\site-packages\\seaborn\\_decorators.py:36: FutureWarning: Pass the following variables as keyword args: x, y. From version 0.12, the only valid positional argument will be `data`, and passing other arguments without an explicit keyword will result in an error or misinterpretation.\n",
      "  warnings.warn(\n"
     ]
    },
    {
     "data": {
      "text/plain": [
       "<AxesSubplot:xlabel='kms_driven', ylabel='Price'>"
      ]
     },
     "execution_count": 403,
     "metadata": {},
     "output_type": "execute_result"
    },
    {
     "data": {
      "image/png": "[encoded data removed]",
      "text/plain": [
       "<Figure size 1080x360 with 1 Axes>"
      ]
     },
     "metadata": {
      "needs_background": "light"
     },
     "output_type": "display_data"
    }
   ],
   "source": [
    "plt.figure(figsize=(15,5))\n",
    "sns.lineplot(df['kms_driven'],df['Price'])"
   ]
  },
  {
   "cell_type": "code",
   "execution_count": 404,
   "id": "93931252",
   "metadata": {},
   "outputs": [
    {
     "name": "stderr",
     "output_type": "stream",
     "text": [
      "C:\\Users\\withu\\anaconda3\\lib\\site-packages\\seaborn\\_decorators.py:36: FutureWarning: Pass the following variables as keyword args: x, y. From version 0.12, the only valid positional argument will be `data`, and passing other arguments without an explicit keyword will result in an error or misinterpretation.\n",
      "  warnings.warn(\n"
     ]
    },
    {
     "data": {
      "text/plain": [
       "<AxesSubplot:xlabel='Price', ylabel='kms_driven'>"
      ]
     },
     "execution_count": 404,
     "metadata": {},
     "output_type": "execute_result"
    },
    {
     "data": {
      "image/png": "[encoded data removed]",
      "text/plain": [
       "<Figure size 1080x360 with 1 Axes>"
      ]
     },
     "metadata": {
      "needs_background": "light"
     },
     "output_type": "display_data"
    }
   ],
   "source": [
    "plt.figure(figsize=(15,5))\n",
    "sns.lineplot(df['Price'],df['kms_driven'])"
   ]
  },
  {
   "cell_type": "code",
   "execution_count": 405,
   "id": "101bb48e",
   "metadata": {},
   "outputs": [
    {
     "data": {
      "text/plain": [
       "[<matplotlib.lines.Line2D at 0x176010e09d0>]"
      ]
     },
     "execution_count": 405,
     "metadata": {},
     "output_type": "execute_result"
    },
    {
     "data": {
      "image/png": "[encoded data removed]",
      "text/plain": [
       "<Figure size 432x288 with 1 Axes>"
      ]
     },
     "metadata": {
      "needs_background": "light"
     },
     "output_type": "display_data"
    }
   ],
   "source": [
    "plt.plot(df['kms_driven'],df['Price'])"
   ]
  },
  {
   "cell_type": "code",
   "execution_count": 407,
   "id": "38d3243a",
   "metadata": {},
   "outputs": [
    {
     "name": "stderr",
     "output_type": "stream",
     "text": [
      "C:\\Users\\withu\\anaconda3\\lib\\site-packages\\seaborn\\_decorators.py:36: FutureWarning: Pass the following variables as keyword args: x, y. From version 0.12, the only valid positional argument will be `data`, and passing other arguments without an explicit keyword will result in an error or misinterpretation.\n",
      "  warnings.warn(\n"
     ]
    },
    {
     "data": {
      "text/plain": [
       "<AxesSubplot:xlabel='year', ylabel='kms_driven'>"
      ]
     },
     "execution_count": 407,
     "metadata": {},
     "output_type": "execute_result"
    },
    {
     "data": {
      "image/png": "[encoded data removed]",
      "text/plain": [
       "<Figure size 1080x360 with 1 Axes>"
      ]
     },
     "metadata": {
      "needs_background": "light"
     },
     "output_type": "display_data"
    }
   ],
   "source": [
    "plt.figure(figsize=(15,5))\n",
    "sns.lineplot(df['year'],df['kms_driven'])"
   ]
  },
  {
   "cell_type": "code",
   "execution_count": 408,
   "id": "d85f5877",
   "metadata": {},
   "outputs": [
    {
     "name": "stderr",
     "output_type": "stream",
     "text": [
      "C:\\Users\\withu\\anaconda3\\lib\\site-packages\\seaborn\\_decorators.py:36: FutureWarning: Pass the following variables as keyword args: x, y. From version 0.12, the only valid positional argument will be `data`, and passing other arguments without an explicit keyword will result in an error or misinterpretation.\n",
      "  warnings.warn(\n"
     ]
    },
    {
     "data": {
      "text/plain": [
       "<AxesSubplot:xlabel='fuel_type', ylabel='kms_driven'>"
      ]
     },
     "execution_count": 408,
     "metadata": {},
     "output_type": "execute_result"
    },
    {
     "data": {
      "image/png": "[encoded data removed]",
      "text/plain": [
       "<Figure size 1080x360 with 1 Axes>"
      ]
     },
     "metadata": {
      "needs_background": "light"
     },
     "output_type": "display_data"
    }
   ],
   "source": [
    "plt.figure(figsize=(15,5))\n",
    "sns.lineplot(df['fuel_type'],df['kms_driven'])"
   ]
  },
  {
   "cell_type": "code",
   "execution_count": 409,
   "id": "b8877142",
   "metadata": {},
   "outputs": [
    {
     "name": "stderr",
     "output_type": "stream",
     "text": [
      "C:\\Users\\withu\\anaconda3\\lib\\site-packages\\seaborn\\_decorators.py:36: FutureWarning: Pass the following variables as keyword args: x, y. From version 0.12, the only valid positional argument will be `data`, and passing other arguments without an explicit keyword will result in an error or misinterpretation.\n",
      "  warnings.warn(\n"
     ]
    },
    {
     "data": {
      "text/plain": [
       "<AxesSubplot:xlabel='year', ylabel='Price'>"
      ]
     },
     "execution_count": 409,
     "metadata": {},
     "output_type": "execute_result"
    },
    {
     "data": {
      "image/png": "[encoded data removed]",
      "text/plain": [
       "<Figure size 1080x360 with 1 Axes>"
      ]
     },
     "metadata": {
      "needs_background": "light"
     },
     "output_type": "display_data"
    }
   ],
   "source": [
    "plt.figure(figsize=(15,5))\n",
    "sns.lineplot(df['year'],df['Price'])"
   ]
  },
  {
   "cell_type": "code",
   "execution_count": 410,
   "id": "db4cbca0",
   "metadata": {},
   "outputs": [
    {
     "name": "stderr",
     "output_type": "stream",
     "text": [
      "C:\\Users\\withu\\anaconda3\\lib\\site-packages\\seaborn\\_decorators.py:36: FutureWarning: Pass the following variables as keyword args: x, y. From version 0.12, the only valid positional argument will be `data`, and passing other arguments without an explicit keyword will result in an error or misinterpretation.\n",
      "  warnings.warn(\n"
     ]
    },
    {
     "data": {
      "text/plain": [
       "<AxesSubplot:xlabel='fuel_type', ylabel='Price'>"
      ]
     },
     "execution_count": 410,
     "metadata": {},
     "output_type": "execute_result"
    },
    {
     "data": {
      "image/png": "[encoded data removed]",
      "text/plain": [
       "<Figure size 1080x360 with 1 Axes>"
      ]
     },
     "metadata": {
      "needs_background": "light"
     },
     "output_type": "display_data"
    }
   ],
   "source": [
    "plt.figure(figsize=(15,5))\n",
    "sns.lineplot(df['fuel_type'],df['Price'])"
   ]
  },
  {
   "cell_type": "code",
   "execution_count": 422,
   "id": "383c888d",
   "metadata": {},
   "outputs": [
    {
     "data": {
      "text/plain": [
       "<AxesSubplot:xlabel='year', ylabel='fuel_type'>"
      ]
     },
     "execution_count": 422,
     "metadata": {},
     "output_type": "execute_result"
    },
    {
     "data": {
      "image/png": "[encoded data removed]",
      "text/plain": [
       "<Figure size 432x288 with 2 Axes>"
      ]
     },
     "metadata": {
      "needs_background": "light"
     },
     "output_type": "display_data"
    }
   ],
   "source": [
    "sns.heatmap(pd.crosstab(df['fuel_type'],df['year']))"
   ]
  },
  {
   "cell_type": "code",
   "execution_count": 406,
   "id": "c5be5ca5",
   "metadata": {},
   "outputs": [
    {
     "data": {
      "text/html": [
       "<div>\n",
       "<style scoped>\n",
       "    .dataframe tbody tr th:only-of-type {\n",
       "        vertical-align: middle;\n",
       "    }\n",
       "\n",
       "    .dataframe tbody tr th {\n",
       "        vertical-align: top;\n",
       "    }\n",
       "\n",
       "    .dataframe thead th {\n",
       "        text-align: right;\n",
       "    }\n",
       "</style>\n",
       "<table border=\"1\" class=\"dataframe\">\n",
       "  <thead>\n",
       "    <tr style=\"text-align: right;\">\n",
       "      <th></th>\n",
       "      <th>index</th>\n",
       "      <th>company</th>\n",
       "      <th>model</th>\n",
       "      <th>series</th>\n",
       "      <th>year</th>\n",
       "      <th>fuel_type</th>\n",
       "      <th>kms_driven</th>\n",
       "      <th>Price</th>\n",
       "    </tr>\n",
       "  </thead>\n",
       "  <tbody>\n",
       "    <tr>\n",
       "      <th>0</th>\n",
       "      <td>0</td>\n",
       "      <td>Hyundai</td>\n",
       "      <td>Santro Xing</td>\n",
       "      <td>XO eRLX Euro III</td>\n",
       "      <td>2007</td>\n",
       "      <td>Petrol</td>\n",
       "      <td>45000</td>\n",
       "      <td>80000</td>\n",
       "    </tr>\n",
       "    <tr>\n",
       "      <th>1</th>\n",
       "      <td>1</td>\n",
       "      <td>Mahindra</td>\n",
       "      <td>Jeep CL550</td>\n",
       "      <td>MDI</td>\n",
       "      <td>2006</td>\n",
       "      <td>Diesel</td>\n",
       "      <td>40</td>\n",
       "      <td>425000</td>\n",
       "    </tr>\n",
       "    <tr>\n",
       "      <th>2</th>\n",
       "      <td>3</td>\n",
       "      <td>Hyundai</td>\n",
       "      <td>Grand i10</td>\n",
       "      <td>Magna 1.2 Kappa VTVT</td>\n",
       "      <td>2014</td>\n",
       "      <td>Petrol</td>\n",
       "      <td>28000</td>\n",
       "      <td>325000</td>\n",
       "    </tr>\n",
       "    <tr>\n",
       "      <th>3</th>\n",
       "      <td>4</td>\n",
       "      <td>Ford</td>\n",
       "      <td>EcoSport Titanium</td>\n",
       "      <td>1.5L TDCi</td>\n",
       "      <td>2014</td>\n",
       "      <td>Diesel</td>\n",
       "      <td>36000</td>\n",
       "      <td>575000</td>\n",
       "    </tr>\n",
       "    <tr>\n",
       "      <th>4</th>\n",
       "      <td>6</td>\n",
       "      <td>Ford</td>\n",
       "      <td>Figo</td>\n",
       "      <td></td>\n",
       "      <td>2012</td>\n",
       "      <td>Diesel</td>\n",
       "      <td>41000</td>\n",
       "      <td>175000</td>\n",
       "    </tr>\n",
       "  </tbody>\n",
       "</table>\n",
       "</div>"
      ],
      "text/plain": [
       "   index   company              model                series  year fuel_type  \\\n",
       "0      0   Hyundai        Santro Xing      XO eRLX Euro III  2007    Petrol   \n",
       "1      1  Mahindra         Jeep CL550                   MDI  2006    Diesel   \n",
       "2      3   Hyundai          Grand i10  Magna 1.2 Kappa VTVT  2014    Petrol   \n",
       "3      4      Ford  EcoSport Titanium             1.5L TDCi  2014    Diesel   \n",
       "4      6      Ford               Figo                        2012    Diesel   \n",
       "\n",
       "   kms_driven   Price  \n",
       "0       45000   80000  \n",
       "1          40  425000  \n",
       "2       28000  325000  \n",
       "3       36000  575000  \n",
       "4       41000  175000  "
      ]
     },
     "execution_count": 406,
     "metadata": {},
     "output_type": "execute_result"
    }
   ],
   "source": [
    "df.head()"
   ]
  },
  {
   "cell_type": "code",
   "execution_count": 427,
   "id": "1b327170",
   "metadata": {},
   "outputs": [
    {
     "data": {
      "text/html": [
       "<div>\n",
       "<style scoped>\n",
       "    .dataframe tbody tr th:only-of-type {\n",
       "        vertical-align: middle;\n",
       "    }\n",
       "\n",
       "    .dataframe tbody tr th {\n",
       "        vertical-align: top;\n",
       "    }\n",
       "\n",
       "    .dataframe thead th {\n",
       "        text-align: right;\n",
       "    }\n",
       "</style>\n",
       "<table border=\"1\" class=\"dataframe\">\n",
       "  <thead>\n",
       "    <tr style=\"text-align: right;\">\n",
       "      <th></th>\n",
       "      <th>index</th>\n",
       "      <th>company</th>\n",
       "      <th>model</th>\n",
       "      <th>series</th>\n",
       "      <th>year</th>\n",
       "      <th>fuel_type</th>\n",
       "      <th>kms_driven</th>\n",
       "      <th>Price</th>\n",
       "    </tr>\n",
       "  </thead>\n",
       "  <tbody>\n",
       "    <tr>\n",
       "      <th>118</th>\n",
       "      <td>146</td>\n",
       "      <td>Mahindra</td>\n",
       "      <td>Scorpio</td>\n",
       "      <td></td>\n",
       "      <td>2015</td>\n",
       "      <td>Diesel</td>\n",
       "      <td>22000</td>\n",
       "      <td>984999</td>\n",
       "    </tr>\n",
       "    <tr>\n",
       "      <th>12</th>\n",
       "      <td>16</td>\n",
       "      <td>Audi</td>\n",
       "      <td>A8</td>\n",
       "      <td></td>\n",
       "      <td>2017</td>\n",
       "      <td>Petrol</td>\n",
       "      <td>4000</td>\n",
       "      <td>1000000</td>\n",
       "    </tr>\n",
       "    <tr>\n",
       "      <th>560</th>\n",
       "      <td>690</td>\n",
       "      <td>Maruti</td>\n",
       "      <td>Suzuki Ertiga</td>\n",
       "      <td>Vxi</td>\n",
       "      <td>2012</td>\n",
       "      <td>Diesel</td>\n",
       "      <td>200000</td>\n",
       "      <td>1000000</td>\n",
       "    </tr>\n",
       "    <tr>\n",
       "      <th>411</th>\n",
       "      <td>525</td>\n",
       "      <td>Hyundai</td>\n",
       "      <td>Creta 1.6</td>\n",
       "      <td>SX Plus Petrol AT</td>\n",
       "      <td>2016</td>\n",
       "      <td>Petrol</td>\n",
       "      <td>8000</td>\n",
       "      <td>1000000</td>\n",
       "    </tr>\n",
       "    <tr>\n",
       "      <th>566</th>\n",
       "      <td>696</td>\n",
       "      <td>BMW</td>\n",
       "      <td>X1</td>\n",
       "      <td></td>\n",
       "      <td>2011</td>\n",
       "      <td>Diesel</td>\n",
       "      <td>34000</td>\n",
       "      <td>1000000</td>\n",
       "    </tr>\n",
       "    <tr>\n",
       "      <th>279</th>\n",
       "      <td>361</td>\n",
       "      <td>Mahindra</td>\n",
       "      <td>XUV500</td>\n",
       "      <td></td>\n",
       "      <td>2015</td>\n",
       "      <td>Diesel</td>\n",
       "      <td>15000</td>\n",
       "      <td>1000000</td>\n",
       "    </tr>\n",
       "    <tr>\n",
       "      <th>326</th>\n",
       "      <td>425</td>\n",
       "      <td>Mahindra</td>\n",
       "      <td>TUV300 T8</td>\n",
       "      <td></td>\n",
       "      <td>2018</td>\n",
       "      <td>Diesel</td>\n",
       "      <td>4500</td>\n",
       "      <td>1000000</td>\n",
       "    </tr>\n",
       "    <tr>\n",
       "      <th>541</th>\n",
       "      <td>671</td>\n",
       "      <td>BMW</td>\n",
       "      <td>X1 sDrive20d</td>\n",
       "      <td></td>\n",
       "      <td>2012</td>\n",
       "      <td>Diesel</td>\n",
       "      <td>41000</td>\n",
       "      <td>1025000</td>\n",
       "    </tr>\n",
       "    <tr>\n",
       "      <th>518</th>\n",
       "      <td>648</td>\n",
       "      <td>Mahindra</td>\n",
       "      <td>XUV500 W10</td>\n",
       "      <td></td>\n",
       "      <td>2016</td>\n",
       "      <td>Diesel</td>\n",
       "      <td>41000</td>\n",
       "      <td>1065000</td>\n",
       "    </tr>\n",
       "    <tr>\n",
       "      <th>276</th>\n",
       "      <td>357</td>\n",
       "      <td>Toyota</td>\n",
       "      <td>Fortuner</td>\n",
       "      <td></td>\n",
       "      <td>2011</td>\n",
       "      <td>Diesel</td>\n",
       "      <td>52000</td>\n",
       "      <td>1074999</td>\n",
       "    </tr>\n",
       "    <tr>\n",
       "      <th>539</th>\n",
       "      <td>669</td>\n",
       "      <td>BMW</td>\n",
       "      <td>3 Series</td>\n",
       "      <td>320d Sedan</td>\n",
       "      <td>2011</td>\n",
       "      <td>Diesel</td>\n",
       "      <td>35000</td>\n",
       "      <td>1075000</td>\n",
       "    </tr>\n",
       "    <tr>\n",
       "      <th>282</th>\n",
       "      <td>366</td>\n",
       "      <td>Mahindra</td>\n",
       "      <td>XUV500</td>\n",
       "      <td></td>\n",
       "      <td>2016</td>\n",
       "      <td>Diesel</td>\n",
       "      <td>72000</td>\n",
       "      <td>1130000</td>\n",
       "    </tr>\n",
       "    <tr>\n",
       "      <th>440</th>\n",
       "      <td>554</td>\n",
       "      <td>BMW</td>\n",
       "      <td>X1 xDrive20d</td>\n",
       "      <td>xLine</td>\n",
       "      <td>2011</td>\n",
       "      <td>Diesel</td>\n",
       "      <td>72000</td>\n",
       "      <td>1150000</td>\n",
       "    </tr>\n",
       "    <tr>\n",
       "      <th>62</th>\n",
       "      <td>86</td>\n",
       "      <td>Volkswagen</td>\n",
       "      <td>Vento Highline</td>\n",
       "      <td>Plus 1.5 Diesel AT</td>\n",
       "      <td>2019</td>\n",
       "      <td>Diesel</td>\n",
       "      <td>3600</td>\n",
       "      <td>1200000</td>\n",
       "    </tr>\n",
       "    <tr>\n",
       "      <th>604</th>\n",
       "      <td>738</td>\n",
       "      <td>Hyundai</td>\n",
       "      <td>Creta 1.6</td>\n",
       "      <td>SX</td>\n",
       "      <td>2019</td>\n",
       "      <td>Petrol</td>\n",
       "      <td>0</td>\n",
       "      <td>1200000</td>\n",
       "    </tr>\n",
       "    <tr>\n",
       "      <th>328</th>\n",
       "      <td>427</td>\n",
       "      <td>Nissan</td>\n",
       "      <td>X Trail</td>\n",
       "      <td>Select Variant</td>\n",
       "      <td>2019</td>\n",
       "      <td>Diesel</td>\n",
       "      <td>300</td>\n",
       "      <td>1200000</td>\n",
       "    </tr>\n",
       "    <tr>\n",
       "      <th>568</th>\n",
       "      <td>698</td>\n",
       "      <td>Mercedes</td>\n",
       "      <td>Benz C</td>\n",
       "      <td>Class C 220 CDI Avantgarde</td>\n",
       "      <td>2009</td>\n",
       "      <td>Diesel</td>\n",
       "      <td>76000</td>\n",
       "      <td>1225000</td>\n",
       "    </tr>\n",
       "    <tr>\n",
       "      <th>343</th>\n",
       "      <td>445</td>\n",
       "      <td>BMW</td>\n",
       "      <td>5 Series</td>\n",
       "      <td>520d Sedan</td>\n",
       "      <td>2011</td>\n",
       "      <td>Diesel</td>\n",
       "      <td>49000</td>\n",
       "      <td>1299000</td>\n",
       "    </tr>\n",
       "    <tr>\n",
       "      <th>448</th>\n",
       "      <td>563</td>\n",
       "      <td>Mahindra</td>\n",
       "      <td>XUV500 W10</td>\n",
       "      <td></td>\n",
       "      <td>2018</td>\n",
       "      <td>Diesel</td>\n",
       "      <td>40000</td>\n",
       "      <td>1299000</td>\n",
       "    </tr>\n",
       "    <tr>\n",
       "      <th>262</th>\n",
       "      <td>338</td>\n",
       "      <td>Audi</td>\n",
       "      <td>A4 2.0</td>\n",
       "      <td>TDI 177bhp Premium</td>\n",
       "      <td>2012</td>\n",
       "      <td>Diesel</td>\n",
       "      <td>40000</td>\n",
       "      <td>1350000</td>\n",
       "    </tr>\n",
       "    <tr>\n",
       "      <th>192</th>\n",
       "      <td>235</td>\n",
       "      <td>Mercedes</td>\n",
       "      <td>Benz B</td>\n",
       "      <td>Class B180 Sports</td>\n",
       "      <td>2014</td>\n",
       "      <td>Petrol</td>\n",
       "      <td>31000</td>\n",
       "      <td>1400000</td>\n",
       "    </tr>\n",
       "    <tr>\n",
       "      <th>41</th>\n",
       "      <td>49</td>\n",
       "      <td>Mitsubishi</td>\n",
       "      <td>Pajero Sport</td>\n",
       "      <td>Limited Edition</td>\n",
       "      <td>2015</td>\n",
       "      <td>Diesel</td>\n",
       "      <td>47000</td>\n",
       "      <td>1475000</td>\n",
       "    </tr>\n",
       "    <tr>\n",
       "      <th>557</th>\n",
       "      <td>687</td>\n",
       "      <td>Mitsubishi</td>\n",
       "      <td>Pajero Sport</td>\n",
       "      <td>Limited Edition</td>\n",
       "      <td>2015</td>\n",
       "      <td>Diesel</td>\n",
       "      <td>42590</td>\n",
       "      <td>1490000</td>\n",
       "    </tr>\n",
       "    <tr>\n",
       "      <th>345</th>\n",
       "      <td>447</td>\n",
       "      <td>Audi</td>\n",
       "      <td>Q3 2.0</td>\n",
       "      <td>TDI quattro Premium</td>\n",
       "      <td>2013</td>\n",
       "      <td>Diesel</td>\n",
       "      <td>37000</td>\n",
       "      <td>1499000</td>\n",
       "    </tr>\n",
       "    <tr>\n",
       "      <th>600</th>\n",
       "      <td>734</td>\n",
       "      <td>Toyota</td>\n",
       "      <td>Fortuner 3.0</td>\n",
       "      <td>4x4 MT</td>\n",
       "      <td>2013</td>\n",
       "      <td>Diesel</td>\n",
       "      <td>97000</td>\n",
       "      <td>1499000</td>\n",
       "    </tr>\n",
       "    <tr>\n",
       "      <th>333</th>\n",
       "      <td>434</td>\n",
       "      <td>Mercedes</td>\n",
       "      <td>Benz A</td>\n",
       "      <td>Class A 180 Sport Petrol</td>\n",
       "      <td>2013</td>\n",
       "      <td>Petrol</td>\n",
       "      <td>14000</td>\n",
       "      <td>1500000</td>\n",
       "    </tr>\n",
       "    <tr>\n",
       "      <th>561</th>\n",
       "      <td>691</td>\n",
       "      <td>Audi</td>\n",
       "      <td>A4 2.0</td>\n",
       "      <td>TDI 177bhp Premium</td>\n",
       "      <td>2013</td>\n",
       "      <td>Diesel</td>\n",
       "      <td>27000</td>\n",
       "      <td>1510000</td>\n",
       "    </tr>\n",
       "    <tr>\n",
       "      <th>374</th>\n",
       "      <td>483</td>\n",
       "      <td>Toyota</td>\n",
       "      <td>Fortuner 3.0</td>\n",
       "      <td>4x2 MT</td>\n",
       "      <td>2015</td>\n",
       "      <td>Diesel</td>\n",
       "      <td>120000</td>\n",
       "      <td>1525000</td>\n",
       "    </tr>\n",
       "    <tr>\n",
       "      <th>361</th>\n",
       "      <td>467</td>\n",
       "      <td>Mitsubishi</td>\n",
       "      <td>Pajero Sport</td>\n",
       "      <td>Limited Edition</td>\n",
       "      <td>2015</td>\n",
       "      <td>Petrol</td>\n",
       "      <td>43222</td>\n",
       "      <td>1540000</td>\n",
       "    </tr>\n",
       "    <tr>\n",
       "      <th>424</th>\n",
       "      <td>538</td>\n",
       "      <td>Audi</td>\n",
       "      <td>A6 2.0</td>\n",
       "      <td>TDI Premium</td>\n",
       "      <td>2012</td>\n",
       "      <td>Diesel</td>\n",
       "      <td>11500</td>\n",
       "      <td>1599000</td>\n",
       "    </tr>\n",
       "    <tr>\n",
       "      <th>75</th>\n",
       "      <td>100</td>\n",
       "      <td>BMW</td>\n",
       "      <td>7 Series</td>\n",
       "      <td>740Li Sedan</td>\n",
       "      <td>2009</td>\n",
       "      <td>Petrol</td>\n",
       "      <td>35000</td>\n",
       "      <td>1600000</td>\n",
       "    </tr>\n",
       "    <tr>\n",
       "      <th>564</th>\n",
       "      <td>694</td>\n",
       "      <td>Mitsubishi</td>\n",
       "      <td>Pajero Sport</td>\n",
       "      <td>2.5 AT</td>\n",
       "      <td>2015</td>\n",
       "      <td>Diesel</td>\n",
       "      <td>37000</td>\n",
       "      <td>1725000</td>\n",
       "    </tr>\n",
       "    <tr>\n",
       "      <th>562</th>\n",
       "      <td>692</td>\n",
       "      <td>Volvo</td>\n",
       "      <td>S80 Summum</td>\n",
       "      <td>D4</td>\n",
       "      <td>2015</td>\n",
       "      <td>Diesel</td>\n",
       "      <td>42000</td>\n",
       "      <td>1850000</td>\n",
       "    </tr>\n",
       "    <tr>\n",
       "      <th>56</th>\n",
       "      <td>79</td>\n",
       "      <td>Mini</td>\n",
       "      <td>Cooper S</td>\n",
       "      <td>1.6</td>\n",
       "      <td>2013</td>\n",
       "      <td>Petrol</td>\n",
       "      <td>13500</td>\n",
       "      <td>1891111</td>\n",
       "    </tr>\n",
       "    <tr>\n",
       "      <th>52</th>\n",
       "      <td>73</td>\n",
       "      <td>Mini</td>\n",
       "      <td>Cooper S</td>\n",
       "      <td>1.6</td>\n",
       "      <td>2013</td>\n",
       "      <td>Petrol</td>\n",
       "      <td>13000</td>\n",
       "      <td>1891111</td>\n",
       "    </tr>\n",
       "    <tr>\n",
       "      <th>201</th>\n",
       "      <td>249</td>\n",
       "      <td>Mini</td>\n",
       "      <td>Cooper S</td>\n",
       "      <td></td>\n",
       "      <td>2013</td>\n",
       "      <td>Petrol</td>\n",
       "      <td>13000</td>\n",
       "      <td>1891111</td>\n",
       "    </tr>\n",
       "    <tr>\n",
       "      <th>548</th>\n",
       "      <td>678</td>\n",
       "      <td>Audi</td>\n",
       "      <td>A4 2.0</td>\n",
       "      <td>TDI 177bhp Premium</td>\n",
       "      <td>2016</td>\n",
       "      <td>Diesel</td>\n",
       "      <td>44000</td>\n",
       "      <td>1900000</td>\n",
       "    </tr>\n",
       "    <tr>\n",
       "      <th>188</th>\n",
       "      <td>231</td>\n",
       "      <td>Mercedes</td>\n",
       "      <td>Benz GLA</td>\n",
       "      <td>Class 200 CDI Sport</td>\n",
       "      <td>2015</td>\n",
       "      <td>Diesel</td>\n",
       "      <td>20000</td>\n",
       "      <td>2000000</td>\n",
       "    </tr>\n",
       "    <tr>\n",
       "      <th>189</th>\n",
       "      <td>232</td>\n",
       "      <td>Land</td>\n",
       "      <td>Rover Freelander</td>\n",
       "      <td>2 SE</td>\n",
       "      <td>2015</td>\n",
       "      <td>Diesel</td>\n",
       "      <td>30000</td>\n",
       "      <td>2100000</td>\n",
       "    </tr>\n",
       "    <tr>\n",
       "      <th>537</th>\n",
       "      <td>667</td>\n",
       "      <td>Jaguar</td>\n",
       "      <td>XF 2.2</td>\n",
       "      <td>Diesel Luxury</td>\n",
       "      <td>2013</td>\n",
       "      <td>Diesel</td>\n",
       "      <td>29000</td>\n",
       "      <td>2190000</td>\n",
       "    </tr>\n",
       "    <tr>\n",
       "      <th>538</th>\n",
       "      <td>668</td>\n",
       "      <td>Audi</td>\n",
       "      <td>Q5 2.0</td>\n",
       "      <td>TDI quattro Premium Plus</td>\n",
       "      <td>2014</td>\n",
       "      <td>Diesel</td>\n",
       "      <td>34000</td>\n",
       "      <td>2390000</td>\n",
       "    </tr>\n",
       "    <tr>\n",
       "      <th>398</th>\n",
       "      <td>510</td>\n",
       "      <td>Jaguar</td>\n",
       "      <td>XE XE</td>\n",
       "      <td>Portfolio</td>\n",
       "      <td>2016</td>\n",
       "      <td>Petrol</td>\n",
       "      <td>8500</td>\n",
       "      <td>2800000</td>\n",
       "    </tr>\n",
       "    <tr>\n",
       "      <th>681</th>\n",
       "      <td>838</td>\n",
       "      <td>Ford</td>\n",
       "      <td>Endeavor 4x4</td>\n",
       "      <td>Thunder Plus</td>\n",
       "      <td>2019</td>\n",
       "      <td>Diesel</td>\n",
       "      <td>9000</td>\n",
       "      <td>2900000</td>\n",
       "    </tr>\n",
       "    <tr>\n",
       "      <th>589</th>\n",
       "      <td>719</td>\n",
       "      <td>Audi</td>\n",
       "      <td>A3 Cabriolet</td>\n",
       "      <td>40 TFSI</td>\n",
       "      <td>2015</td>\n",
       "      <td>Petrol</td>\n",
       "      <td>12516</td>\n",
       "      <td>3100000</td>\n",
       "    </tr>\n",
       "    <tr>\n",
       "      <th>447</th>\n",
       "      <td>562</td>\n",
       "      <td>Mahindra</td>\n",
       "      <td>XUV500 W6</td>\n",
       "      <td></td>\n",
       "      <td>2014</td>\n",
       "      <td>Diesel</td>\n",
       "      <td>45000</td>\n",
       "      <td>8500003</td>\n",
       "    </tr>\n",
       "  </tbody>\n",
       "</table>\n",
       "</div>"
      ],
      "text/plain": [
       "     index     company             model                      series  year  \\\n",
       "118    146    Mahindra           Scorpio                              2015   \n",
       "12      16        Audi                A8                              2017   \n",
       "560    690      Maruti     Suzuki Ertiga                         Vxi  2012   \n",
       "411    525     Hyundai         Creta 1.6           SX Plus Petrol AT  2016   \n",
       "566    696         BMW                X1                              2011   \n",
       "279    361    Mahindra            XUV500                              2015   \n",
       "326    425    Mahindra         TUV300 T8                              2018   \n",
       "541    671         BMW      X1 sDrive20d                              2012   \n",
       "518    648    Mahindra        XUV500 W10                              2016   \n",
       "276    357      Toyota          Fortuner                              2011   \n",
       "539    669         BMW          3 Series                  320d Sedan  2011   \n",
       "282    366    Mahindra            XUV500                              2016   \n",
       "440    554         BMW      X1 xDrive20d                       xLine  2011   \n",
       "62      86  Volkswagen    Vento Highline          Plus 1.5 Diesel AT  2019   \n",
       "604    738     Hyundai         Creta 1.6                          SX  2019   \n",
       "328    427      Nissan           X Trail              Select Variant  2019   \n",
       "568    698    Mercedes            Benz C  Class C 220 CDI Avantgarde  2009   \n",
       "343    445         BMW          5 Series                  520d Sedan  2011   \n",
       "448    563    Mahindra        XUV500 W10                              2018   \n",
       "262    338        Audi            A4 2.0          TDI 177bhp Premium  2012   \n",
       "192    235    Mercedes            Benz B           Class B180 Sports  2014   \n",
       "41      49  Mitsubishi      Pajero Sport             Limited Edition  2015   \n",
       "557    687  Mitsubishi      Pajero Sport             Limited Edition  2015   \n",
       "345    447        Audi            Q3 2.0         TDI quattro Premium  2013   \n",
       "600    734      Toyota      Fortuner 3.0                      4x4 MT  2013   \n",
       "333    434    Mercedes            Benz A    Class A 180 Sport Petrol  2013   \n",
       "561    691        Audi            A4 2.0          TDI 177bhp Premium  2013   \n",
       "374    483      Toyota      Fortuner 3.0                      4x2 MT  2015   \n",
       "361    467  Mitsubishi      Pajero Sport             Limited Edition  2015   \n",
       "424    538        Audi            A6 2.0                 TDI Premium  2012   \n",
       "75     100         BMW          7 Series                 740Li Sedan  2009   \n",
       "564    694  Mitsubishi      Pajero Sport                      2.5 AT  2015   \n",
       "562    692       Volvo        S80 Summum                          D4  2015   \n",
       "56      79        Mini          Cooper S                         1.6  2013   \n",
       "52      73        Mini          Cooper S                         1.6  2013   \n",
       "201    249        Mini          Cooper S                              2013   \n",
       "548    678        Audi            A4 2.0          TDI 177bhp Premium  2016   \n",
       "188    231    Mercedes          Benz GLA         Class 200 CDI Sport  2015   \n",
       "189    232        Land  Rover Freelander                        2 SE  2015   \n",
       "537    667      Jaguar            XF 2.2               Diesel Luxury  2013   \n",
       "538    668        Audi            Q5 2.0    TDI quattro Premium Plus  2014   \n",
       "398    510      Jaguar             XE XE                   Portfolio  2016   \n",
       "681    838        Ford      Endeavor 4x4                Thunder Plus  2019   \n",
       "589    719        Audi      A3 Cabriolet                     40 TFSI  2015   \n",
       "447    562    Mahindra         XUV500 W6                              2014   \n",
       "\n",
       "    fuel_type  kms_driven    Price  \n",
       "118    Diesel       22000   984999  \n",
       "12     Petrol        4000  1000000  \n",
       "560    Diesel      200000  1000000  \n",
       "411    Petrol        8000  1000000  \n",
       "566    Diesel       34000  1000000  \n",
       "279    Diesel       15000  1000000  \n",
       "326    Diesel        4500  1000000  \n",
       "541    Diesel       41000  1025000  \n",
       "518    Diesel       41000  1065000  \n",
       "276    Diesel       52000  1074999  \n",
       "539    Diesel       35000  1075000  \n",
       "282    Diesel       72000  1130000  \n",
       "440    Diesel       72000  1150000  \n",
       "62     Diesel        3600  1200000  \n",
       "604    Petrol           0  1200000  \n",
       "328    Diesel         300  1200000  \n",
       "568    Diesel       76000  1225000  \n",
       "343    Diesel       49000  1299000  \n",
       "448    Diesel       40000  1299000  \n",
       "262    Diesel       40000  1350000  \n",
       "192    Petrol       31000  1400000  \n",
       "41     Diesel       47000  1475000  \n",
       "557    Diesel       42590  1490000  \n",
       "345    Diesel       37000  1499000  \n",
       "600    Diesel       97000  1499000  \n",
       "333    Petrol       14000  1500000  \n",
       "561    Diesel       27000  1510000  \n",
       "374    Diesel      120000  1525000  \n",
       "361    Petrol       43222  1540000  \n",
       "424    Diesel       11500  1599000  \n",
       "75     Petrol       35000  1600000  \n",
       "564    Diesel       37000  1725000  \n",
       "562    Diesel       42000  1850000  \n",
       "56     Petrol       13500  1891111  \n",
       "52     Petrol       13000  1891111  \n",
       "201    Petrol       13000  1891111  \n",
       "548    Diesel       44000  1900000  \n",
       "188    Diesel       20000  2000000  \n",
       "189    Diesel       30000  2100000  \n",
       "537    Diesel       29000  2190000  \n",
       "538    Diesel       34000  2390000  \n",
       "398    Petrol        8500  2800000  \n",
       "681    Diesel        9000  2900000  \n",
       "589    Petrol       12516  3100000  \n",
       "447    Diesel       45000  8500003  "
      ]
     },
     "execution_count": 427,
     "metadata": {},
     "output_type": "execute_result"
    }
   ],
   "source": [
    "df[df['Price']>977497.5].sort_values(by='Price')"
   ]
  },
  {
   "cell_type": "code",
   "execution_count": 428,
   "id": "9a5fa586",
   "metadata": {},
   "outputs": [],
   "source": [
    "df.to_csv('Car_Data_transformed.csv')"
   ]
  },
  {
   "cell_type": "code",
   "execution_count": null,
   "id": "3deabfbc",
   "metadata": {},
   "outputs": [],
   "source": []
  },
  {
   "cell_type": "code",
   "execution_count": null,
   "id": "02311ed6",
   "metadata": {},
   "outputs": [],
   "source": []
  },
  {
   "cell_type": "code",
   "execution_count": null,
   "id": "fa353fde",
   "metadata": {},
   "outputs": [],
   "source": []
  },
  {
   "cell_type": "code",
   "execution_count": null,
   "id": "c3611fb0",
   "metadata": {},
   "outputs": [],
   "source": []
  },
  {
   "cell_type": "code",
   "execution_count": null,
   "id": "3f39b557",
   "metadata": {},
   "outputs": [],
   "source": []
  },
  {
   "cell_type": "code",
   "execution_count": null,
   "id": "1cc9a16a",
   "metadata": {},
   "outputs": [],
   "source": []
  },
  {
   "cell_type": "code",
   "execution_count": null,
   "id": "6944919e",
   "metadata": {},
   "outputs": [],
   "source": []
  },
  {
   "cell_type": "code",
   "execution_count": null,
   "id": "7baa8920",
   "metadata": {},
   "outputs": [],
   "source": []
  },
  {
   "cell_type": "code",
   "execution_count": null,
   "id": "3fc739ea",
   "metadata": {},
   "outputs": [],
   "source": []
  },
  {
   "cell_type": "code",
   "execution_count": null,
   "id": "082c2633",
   "metadata": {},
   "outputs": [],
   "source": []
  },
  {
   "cell_type": "code",
   "execution_count": null,
   "id": "d94dc052",
   "metadata": {},
   "outputs": [],
   "source": []
  },
  {
   "cell_type": "code",
   "execution_count": null,
   "id": "4b3547c4",
   "metadata": {},
   "outputs": [],
   "source": []
  },
  {
   "cell_type": "code",
   "execution_count": null,
   "id": "5291f3e2",
   "metadata": {},
   "outputs": [],
   "source": []
  },
  {
   "cell_type": "code",
   "execution_count": null,
   "id": "84b28d87",
   "metadata": {},
   "outputs": [],
   "source": []
  }
 ],
 "metadata": {
  "kernelspec": {
   "display_name": "Python 3",
   "language": "python",
   "name": "python3"
  },
  "language_info": {
   "codemirror_mode": {
    "name": "ipython",
    "version": 3
   },
   "file_extension": ".py",
   "mimetype": "text/x-python",
   "name": "python",
   "nbconvert_exporter": "python",
   "pygments_lexer": "ipython3",
   "version": "3.10.8 (tags/v3.10.8:aaaf517, Oct 11 2022, 16:50:30) [MSC v.1933 64 bit (AMD64)]"
  },
  "vscode": {
   "interpreter": {
    "hash": "bbb84bcca62af9563396e78ce7fc0474033eab9a05a32a044234db5df82c76ad"
   }
  }
 },
 "nbformat": 4,
 "nbformat_minor": 5
}
